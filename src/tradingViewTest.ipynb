{
 "cells": [
  {
   "cell_type": "markdown",
   "id": "412c2ee2-b881-434a-878f-e6408af51ccf",
   "metadata": {},
   "source": [
    "## Bring trading view signals \n",
    "https://python-tradingview-ta.readthedocs.io/en/latest/overview.html#installation\n",
    "\n",
    "Has all trading view signals with recommendation"
   ]
  },
  {
   "cell_type": "code",
   "execution_count": 1,
   "id": "b90ba613-18ec-45d5-986b-d6633b37e31b",
   "metadata": {},
   "outputs": [],
   "source": [
    "from __future__ import print_function"
   ]
  },
  {
   "cell_type": "markdown",
   "id": "b255bbbc-dad6-4c5f-880b-899efa2bf8f1",
   "metadata": {},
   "source": [
    "### Get all stock symbol tickers\n",
    "https://levelup.gitconnected.com/how-to-get-all-stock-symbols-a73925c16a1b"
   ]
  },
  {
   "cell_type": "markdown",
   "id": "6a647c39-a246-4c71-881f-88d35071d94e",
   "metadata": {},
   "source": [
    "#### You can search on https://tvdb.brianthe.dev to see which symbol, exchange, and screener to use."
   ]
  },
  {
   "cell_type": "markdown",
   "id": "162b0aab-1773-49a9-8e39-d6bf1c27a033",
   "metadata": {},
   "source": [
    "#### The importlib package provides the implementation of the import statement in Python source code portable to any Python interpreter. This also provides an implementation which is easier to comprehend than one implemented in a programming language other than Python."
   ]
  },
  {
   "cell_type": "markdown",
   "id": "edadfd2d-3a00-4552-b442-aa57158e2fe6",
   "metadata": {},
   "source": [
    "##  https://github.com/StreamAlpha/tvdatafeed to get historical data from Trading View\n",
    "##  https://github.com/TA-Lib/ta-lib-python\n",
    "### indicator ADOSC similar to Chaikin Oscillator"
   ]
  },
  {
   "cell_type": "code",
   "execution_count": 2,
   "id": "89bab1d2-fff8-4f2d-a5c2-3893733e826d",
   "metadata": {},
   "outputs": [],
   "source": [
    "import importlib"
   ]
  },
  {
   "cell_type": "code",
   "execution_count": 3,
   "id": "8eaf7c20-de9d-42b1-8c8f-137644379bb4",
   "metadata": {},
   "outputs": [],
   "source": [
    "import tradingview_ta\n",
    "from tradingview_ta import TA_Handler, Interval, Exchange\n",
    "\n"
   ]
  },
  {
   "cell_type": "code",
   "execution_count": 4,
   "id": "fd6cd310-cff0-4d0e-bbb3-21108602a56f",
   "metadata": {},
   "outputs": [],
   "source": [
    "import os\n",
    "from dotenv import load_dotenv"
   ]
  },
  {
   "cell_type": "code",
   "execution_count": 5,
   "id": "a9d58ad2-d64f-41c9-8297-c4684a4a7cd7",
   "metadata": {},
   "outputs": [
    {
     "data": {
      "text/plain": [
       "True"
      ]
     },
     "execution_count": 5,
     "metadata": {},
     "output_type": "execute_result"
    }
   ],
   "source": [
    "load_dotenv()"
   ]
  },
  {
   "cell_type": "code",
   "execution_count": 6,
   "id": "588b3482-1ac9-4d55-9789-070d5d8d5a45",
   "metadata": {},
   "outputs": [],
   "source": [
    "# Import date class from datetime module\n",
    "from datetime import date"
   ]
  },
  {
   "cell_type": "code",
   "execution_count": 7,
   "id": "398574bd-43bb-416b-854b-fccfb83c29e3",
   "metadata": {},
   "outputs": [
    {
     "name": "stdout",
     "output_type": "stream",
     "text": [
      "2023-04-30\n"
     ]
    }
   ],
   "source": [
    "today = date.today() \n",
    "print(today)"
   ]
  },
  {
   "cell_type": "code",
   "execution_count": null,
   "id": "f8f85c8b-1682-401a-8174-ab57460d5561",
   "metadata": {},
   "outputs": [],
   "source": []
  },
  {
   "cell_type": "code",
   "execution_count": 8,
   "id": "9490ab05-dcac-491a-966b-5bb332208bca",
   "metadata": {},
   "outputs": [],
   "source": [
    "import requests"
   ]
  },
  {
   "cell_type": "code",
   "execution_count": 9,
   "id": "a539f57d-c114-4e90-a5a4-7b9fd327400d",
   "metadata": {},
   "outputs": [],
   "source": [
    "# to get all stock symbols from Yahoo\n",
    "# pip install yahoo-fin\n",
    "import pandas as pd\n",
    "from yahoo_fin import stock_info as si"
   ]
  },
  {
   "cell_type": "code",
   "execution_count": 10,
   "id": "a34669d0-33cc-4496-8d3d-367935643992",
   "metadata": {},
   "outputs": [],
   "source": [
    "from tvDatafeed import TvDatafeed, Interval as TVInterval\n",
    "import talib\n",
    "tradingViewPassword = os.getenv(\"tradingViewPassword\")\n",
    "tradingUser = os.getenv(\"tradingUser\")\n",
    "tv = TvDatafeed(tradingUser, tradingViewPassword)"
   ]
  },
  {
   "cell_type": "code",
   "execution_count": null,
   "id": "7f3cf994-de2a-4d15-9246-36137f85aa97",
   "metadata": {},
   "outputs": [],
   "source": []
  },
  {
   "cell_type": "code",
   "execution_count": 11,
   "id": "f05628a2-621d-41fe-a339-6f9ebeffa0ca",
   "metadata": {},
   "outputs": [
    {
     "name": "stdout",
     "output_type": "stream",
     "text": [
      "{'RECOMMENDATION': 'SELL', 'BUY': 2, 'SELL': 14, 'NEUTRAL': 10}\n"
     ]
    }
   ],
   "source": [
    "# Test 1 ticker\n",
    "tesla = TA_Handler(\n",
    "    symbol=\"TSLA\",\n",
    "    screener=\"america\",\n",
    "    exchange=\"NASDAQ\",\n",
    "    interval=Interval.INTERVAL_1_DAY\n",
    ")\n",
    "print(tesla.get_analysis().summary)\n",
    "tesla_dict = tesla.get_analysis().summary\n",
    "tesla_dict['symbol'] = \"TSLA\"\n",
    "tesla_dict['screener'] = \"america\"\n",
    "tesla_dict['exchange'] = \"NASDAQ\"\n",
    "tesla_dict['interval'] = \"Interval.INTERVAL_1_DAY\"\n",
    "\n",
    "\n",
    "# Example output: {\"RECOMMENDATION\": \"BUY\", \"BUY\": 8, \"NEUTRAL\": 6, \"SELL\": 3}"
   ]
  },
  {
   "cell_type": "code",
   "execution_count": 12,
   "id": "a5e9d0f4-03be-4e9d-94ed-25460c55d37f",
   "metadata": {},
   "outputs": [
    {
     "data": {
      "text/plain": [
       "'SELL'"
      ]
     },
     "execution_count": 12,
     "metadata": {},
     "output_type": "execute_result"
    }
   ],
   "source": [
    "tesla_dict['RECOMMENDATION']"
   ]
  },
  {
   "cell_type": "code",
   "execution_count": 13,
   "id": "2d27c8dd-fc19-44cb-bb57-e98c647cadd4",
   "metadata": {},
   "outputs": [
    {
     "name": "stdout",
     "output_type": "stream",
     "text": [
      "<class 'dict'>\n"
     ]
    }
   ],
   "source": [
    "print(type(tesla_dict))"
   ]
  },
  {
   "cell_type": "code",
   "execution_count": null,
   "id": "b417adef-cd8a-4f3d-91a4-9a7de30dcfa7",
   "metadata": {},
   "outputs": [],
   "source": []
  },
  {
   "cell_type": "code",
   "execution_count": 14,
   "id": "24b9d55d-bdb7-4631-a402-8997726d56a9",
   "metadata": {},
   "outputs": [
    {
     "name": "stdout",
     "output_type": "stream",
     "text": [
      "<class 'dict'>\n"
     ]
    }
   ],
   "source": [
    "#teslaDF = pd.DataFrame.from_dict(tesla_dict, index=[0])\n",
    "teslaDF = pd.DataFrame(tesla_dict,index=[0] )  \n",
    "print(type(tesla_dict))"
   ]
  },
  {
   "cell_type": "code",
   "execution_count": 15,
   "id": "5b2b2dbd-789c-4579-923e-e9baf01ce852",
   "metadata": {},
   "outputs": [
    {
     "data": {
      "text/html": [
       "<div>\n",
       "<style scoped>\n",
       "    .dataframe tbody tr th:only-of-type {\n",
       "        vertical-align: middle;\n",
       "    }\n",
       "\n",
       "    .dataframe tbody tr th {\n",
       "        vertical-align: top;\n",
       "    }\n",
       "\n",
       "    .dataframe thead th {\n",
       "        text-align: right;\n",
       "    }\n",
       "</style>\n",
       "<table border=\"1\" class=\"dataframe\">\n",
       "  <thead>\n",
       "    <tr style=\"text-align: right;\">\n",
       "      <th></th>\n",
       "      <th>RECOMMENDATION</th>\n",
       "      <th>BUY</th>\n",
       "      <th>SELL</th>\n",
       "      <th>NEUTRAL</th>\n",
       "      <th>symbol</th>\n",
       "      <th>screener</th>\n",
       "      <th>exchange</th>\n",
       "      <th>interval</th>\n",
       "    </tr>\n",
       "  </thead>\n",
       "  <tbody>\n",
       "    <tr>\n",
       "      <th>0</th>\n",
       "      <td>SELL</td>\n",
       "      <td>2</td>\n",
       "      <td>14</td>\n",
       "      <td>10</td>\n",
       "      <td>TSLA</td>\n",
       "      <td>america</td>\n",
       "      <td>NASDAQ</td>\n",
       "      <td>Interval.INTERVAL_1_DAY</td>\n",
       "    </tr>\n",
       "  </tbody>\n",
       "</table>\n",
       "</div>"
      ],
      "text/plain": [
       "  RECOMMENDATION  BUY  SELL  NEUTRAL symbol screener exchange  \\\n",
       "0           SELL    2    14       10   TSLA  america   NASDAQ   \n",
       "\n",
       "                  interval  \n",
       "0  Interval.INTERVAL_1_DAY  "
      ]
     },
     "execution_count": 15,
     "metadata": {},
     "output_type": "execute_result"
    }
   ],
   "source": [
    "teslaDF.head()"
   ]
  },
  {
   "cell_type": "code",
   "execution_count": 16,
   "id": "fca17e38-1a0f-48b5-9e10-ca4e84d2145e",
   "metadata": {},
   "outputs": [],
   "source": [
    "# data = {'name': ['nick', 'david', 'joe', 'ross'],\n",
    "#         'age': ['5', '10', '7', '6']} \n",
    "# new = pd.DataFrame.from_dict(data)"
   ]
  },
  {
   "cell_type": "code",
   "execution_count": 17,
   "id": "7c877fcf-6f37-4a9e-8e47-940663789339",
   "metadata": {},
   "outputs": [
    {
     "name": "stdout",
     "output_type": "stream",
     "text": [
      "{'RECOMMENDATION': 'STRONG_SELL', 'BUY': 0, 'SELL': 17, 'NEUTRAL': 9}\n"
     ]
    }
   ],
   "source": [
    "drv = TA_Handler(\n",
    "    symbol=\"DRV\",\n",
    "    screener=\"america\",\n",
    "    exchange=\"AMEX\",\n",
    "    interval=Interval.INTERVAL_1_DAY\n",
    ")\n",
    "print(drv.get_analysis().summary)"
   ]
  },
  {
   "cell_type": "code",
   "execution_count": 18,
   "id": "80a8d98e-9041-4afe-b3bc-58aec8c321f5",
   "metadata": {},
   "outputs": [
    {
     "data": {
      "text/plain": [
       "{'Recommend.Other': -0.27272727,\n",
       " 'Recommend.All': -0.61713287,\n",
       " 'Recommend.MA': -0.96153846,\n",
       " 'RSI': 42.58404122,\n",
       " 'RSI[1]': 45.95929643,\n",
       " 'Stoch.K': 45.32400608,\n",
       " 'Stoch.D': 61.42135853,\n",
       " 'Stoch.K[1]': 66.41677413,\n",
       " 'Stoch.D[1]': 64.80121522,\n",
       " 'CCI20': -179.56819029,\n",
       " 'CCI20[1]': -3.98557666,\n",
       " 'ADX': 14.70196853,\n",
       " 'ADX+DI': 19.80041804,\n",
       " 'ADX-DI': 21.50956757,\n",
       " 'ADX+DI[1]': 21.18964998,\n",
       " 'ADX-DI[1]': 17.91860543,\n",
       " 'AO': -1.93962941,\n",
       " 'AO[1]': -1.74583529,\n",
       " 'Mom': -4.55,\n",
       " 'Mom[1]': -0.45,\n",
       " 'MACD.macd': -0.50586074,\n",
       " 'MACD.signal': -0.37535626,\n",
       " 'Rec.Stoch.RSI': 0,\n",
       " 'Stoch.RSI.K': 40.21128025,\n",
       " 'Rec.WR': 0,\n",
       " 'W.R': -90.43062201,\n",
       " 'Rec.BBPower': 0,\n",
       " 'BBPower': -3.72188446,\n",
       " 'Rec.UO': 0,\n",
       " 'UO': 47.18320397,\n",
       " 'close': 47.03,\n",
       " 'EMA5': 48.99805092,\n",
       " 'SMA5': 49.744,\n",
       " 'EMA10': 49.3668469,\n",
       " 'SMA10': 49.189,\n",
       " 'EMA20': 49.86265668,\n",
       " 'SMA20': 49.3075,\n",
       " 'EMA30': 50.0009613,\n",
       " 'SMA30': 51.59878,\n",
       " 'EMA50': 49.85874771,\n",
       " 'SMA50': 50.411868,\n",
       " 'EMA100': 49.9120634,\n",
       " 'SMA100': 48.677829,\n",
       " 'EMA200': 50.06195423,\n",
       " 'SMA200': 50.842388,\n",
       " 'Rec.Ichimoku': 0,\n",
       " 'Ichimoku.BLine': 54.63,\n",
       " 'Rec.VWMA': -1,\n",
       " 'VWMA': 49.27977119,\n",
       " 'Rec.HullMA9': -1,\n",
       " 'HullMA9': 49.88792593,\n",
       " 'Pivot.M.Classic.S3': 16.75666667,\n",
       " 'Pivot.M.Classic.S2': 34.43666667,\n",
       " 'Pivot.M.Classic.S1': 41.40333333,\n",
       " 'Pivot.M.Classic.Middle': 52.11666667,\n",
       " 'Pivot.M.Classic.R1': 59.08333333,\n",
       " 'Pivot.M.Classic.R2': 69.79666667,\n",
       " 'Pivot.M.Classic.R3': 87.47666667,\n",
       " 'Pivot.M.Fibonacci.S3': 34.43666667,\n",
       " 'Pivot.M.Fibonacci.S2': 41.19042667,\n",
       " 'Pivot.M.Fibonacci.S1': 45.36290667,\n",
       " 'Pivot.M.Fibonacci.Middle': 52.11666667,\n",
       " 'Pivot.M.Fibonacci.R1': 58.87042667,\n",
       " 'Pivot.M.Fibonacci.R2': 63.04290667,\n",
       " 'Pivot.M.Fibonacci.R3': 69.79666667,\n",
       " 'Pivot.M.Camarilla.S3': 43.508,\n",
       " 'Pivot.M.Camarilla.S2': 45.12866667,\n",
       " 'Pivot.M.Camarilla.S1': 46.74933333,\n",
       " 'Pivot.M.Camarilla.Middle': 52.11666667,\n",
       " 'Pivot.M.Camarilla.R1': 49.99066667,\n",
       " 'Pivot.M.Camarilla.R2': 51.61133333,\n",
       " 'Pivot.M.Camarilla.R3': 53.232,\n",
       " 'Pivot.M.Woodie.S3': 22.34,\n",
       " 'Pivot.M.Woodie.S2': 33.745,\n",
       " 'Pivot.M.Woodie.S1': 40.02,\n",
       " 'Pivot.M.Woodie.Middle': 51.425,\n",
       " 'Pivot.M.Woodie.R1': 57.7,\n",
       " 'Pivot.M.Woodie.R2': 69.105,\n",
       " 'Pivot.M.Woodie.R3': 75.38,\n",
       " 'Pivot.M.Demark.S1': 37.92,\n",
       " 'Pivot.M.Demark.Middle': 50.375,\n",
       " 'Pivot.M.Demark.R1': 55.6,\n",
       " 'open': 48.73,\n",
       " 'P.SAR': 52.7,\n",
       " 'BB.lower': 46.78226041,\n",
       " 'BB.upper': 51.83273959,\n",
       " 'AO[2]': -1.90970765,\n",
       " 'volume': 323426,\n",
       " 'change': -3.25036001,\n",
       " 'low': 46.43,\n",
       " 'high': 48.92}"
      ]
     },
     "execution_count": 18,
     "metadata": {},
     "output_type": "execute_result"
    }
   ],
   "source": [
    "drv.get_indicators()"
   ]
  },
  {
   "cell_type": "code",
   "execution_count": 19,
   "id": "399c6c8f-3e0a-4226-ab95-f82abb62250e",
   "metadata": {},
   "outputs": [
    {
     "name": "stdout",
     "output_type": "stream",
     "text": [
      "{'RECOMMENDATION': 'SELL', 'BUY': 0, 'SELL': 3, 'NEUTRAL': 8, 'COMPUTE': {'RSI': 'NEUTRAL', 'STOCH.K': 'NEUTRAL', 'CCI': 'NEUTRAL', 'ADX': 'NEUTRAL', 'AO': 'SELL', 'Mom': 'SELL', 'MACD': 'SELL', 'Stoch.RSI': 'NEUTRAL', 'W%R': 'NEUTRAL', 'BBP': 'NEUTRAL', 'UO': 'NEUTRAL'}}\n"
     ]
    }
   ],
   "source": [
    "print(drv.get_analysis().oscillators)"
   ]
  },
  {
   "cell_type": "code",
   "execution_count": null,
   "id": "91917f15-6d65-4a4b-a638-8c4604b4a4e4",
   "metadata": {},
   "outputs": [],
   "source": []
  },
  {
   "cell_type": "code",
   "execution_count": 20,
   "id": "81d6ab2e-2165-4a80-b611-f25ab9ba4556",
   "metadata": {},
   "outputs": [
    {
     "name": "stdout",
     "output_type": "stream",
     "text": [
      "{'RECOMMENDATION': 'STRONG_SELL', 'BUY': 0, 'SELL': 14, 'NEUTRAL': 1, 'COMPUTE': {'EMA10': 'SELL', 'SMA10': 'SELL', 'EMA20': 'SELL', 'SMA20': 'SELL', 'EMA30': 'SELL', 'SMA30': 'SELL', 'EMA50': 'SELL', 'SMA50': 'SELL', 'EMA100': 'SELL', 'SMA100': 'SELL', 'EMA200': 'SELL', 'SMA200': 'SELL', 'Ichimoku': 'NEUTRAL', 'VWMA': 'SELL', 'HullMA': 'SELL'}}\n"
     ]
    }
   ],
   "source": [
    "print(drv.get_analysis().moving_averages)"
   ]
  },
  {
   "cell_type": "markdown",
   "id": "7bb03eff-a5c8-44df-a5d9-9cf858e0ec43",
   "metadata": {},
   "source": [
    "#### Checking the version"
   ]
  },
  {
   "cell_type": "code",
   "execution_count": 21,
   "id": "a74935bf-7321-40d2-9191-716e45df8112",
   "metadata": {},
   "outputs": [
    {
     "name": "stdout",
     "output_type": "stream",
     "text": [
      "3.3.0\n"
     ]
    }
   ],
   "source": [
    "print(tradingview_ta.__version__)\n",
    "# Example output: 3.1.3"
   ]
  },
  {
   "cell_type": "markdown",
   "id": "e35aca74-8a11-4bdc-9571-da2a3d9cbf7c",
   "metadata": {},
   "source": [
    "#### You can search on https://tvdb.brianthe.dev to see which symbol, exchange, and screener to use."
   ]
  },
  {
   "cell_type": "code",
   "execution_count": 22,
   "id": "4d0e3da6-e9f6-4e1d-87e3-1c602f0b443b",
   "metadata": {},
   "outputs": [],
   "source": [
    "handler = TA_Handler(\n",
    "    symbol=\"MATICUSDC\",\n",
    "    exchange=\"KUCOIN\",\n",
    "    screener=\"crypto\",\n",
    "    interval=\"1D\",\n",
    "    timeout=None\n",
    ")"
   ]
  },
  {
   "cell_type": "code",
   "execution_count": 23,
   "id": "a14d6bc8-89bd-4c72-b801-923c3b96ff13",
   "metadata": {},
   "outputs": [
    {
     "name": "stderr",
     "output_type": "stream",
     "text": [
      "/Users/chakravartiraghavan/opt/anaconda3/envs/myFi/lib/python3.8/site-packages/tradingview_ta/main.py:90: UserWarning: Interval is empty or not valid, defaulting to 1 day.\n",
      "  warnings.warn(\n"
     ]
    }
   ],
   "source": [
    "analysis = handler.get_analysis()"
   ]
  },
  {
   "cell_type": "markdown",
   "id": "ffb7b14a-222d-45dd-bfca-7cdcb9065a0f",
   "metadata": {},
   "source": [
    "analysis.symbol"
   ]
  },
  {
   "cell_type": "code",
   "execution_count": 24,
   "id": "30245161-a0e6-4eac-8b53-8852ca1d46e9",
   "metadata": {},
   "outputs": [
    {
     "data": {
      "text/plain": [
       "37.15694151"
      ]
     },
     "execution_count": 24,
     "metadata": {},
     "output_type": "execute_result"
    }
   ],
   "source": [
    "analysis.indicators[\"RSI\"]"
   ]
  },
  {
   "cell_type": "code",
   "execution_count": 25,
   "id": "a694ab6a-ce15-4a08-bb49-e4a4ad02d703",
   "metadata": {},
   "outputs": [
    {
     "data": {
      "text/plain": [
       "-0.03678563"
      ]
     },
     "execution_count": 25,
     "metadata": {},
     "output_type": "execute_result"
    }
   ],
   "source": [
    "analysis.indicators[\"MACD.macd\"]"
   ]
  },
  {
   "cell_type": "code",
   "execution_count": 26,
   "id": "301dad3f-d266-4aaf-85cc-75666fba7de6",
   "metadata": {},
   "outputs": [
    {
     "data": {
      "text/plain": [
       "datetime.datetime(2023, 4, 30, 22, 18, 27, 407013)"
      ]
     },
     "execution_count": 26,
     "metadata": {},
     "output_type": "execute_result"
    }
   ],
   "source": [
    "analysis.time"
   ]
  },
  {
   "cell_type": "code",
   "execution_count": 27,
   "id": "38cdf28c-aa59-4a90-96a1-83a4978ca801",
   "metadata": {},
   "outputs": [
    {
     "data": {
      "text/plain": [
       "0.9854"
      ]
     },
     "execution_count": 27,
     "metadata": {},
     "output_type": "execute_result"
    }
   ],
   "source": [
    "analysis.indicators[\"close\"]"
   ]
  },
  {
   "cell_type": "code",
   "execution_count": 28,
   "id": "80181b08-39eb-4583-be82-570fec622dae",
   "metadata": {},
   "outputs": [
    {
     "name": "stdout",
     "output_type": "stream",
     "text": [
      "{'RECOMMENDATION': 'SELL', 'BUY': 2, 'SELL': 16, 'NEUTRAL': 8}\n"
     ]
    }
   ],
   "source": [
    "print(handler.get_analysis().summary)"
   ]
  },
  {
   "cell_type": "code",
   "execution_count": 29,
   "id": "a344f2d0-b599-4576-a463-65efb8b95443",
   "metadata": {},
   "outputs": [
    {
     "data": {
      "text/plain": [
       "{'Recommend.Other': 0,\n",
       " 'Recommend.All': -0.48076923,\n",
       " 'Recommend.MA': -0.96153846,\n",
       " 'RSI': 37.15694151,\n",
       " 'RSI[1]': 37.02841602,\n",
       " 'Stoch.K': 19.4539793,\n",
       " 'Stoch.D': 21.12466076,\n",
       " 'Stoch.K[1]': 21.16680871,\n",
       " 'Stoch.D[1]': 20.98159995,\n",
       " 'CCI20': -82.68560576,\n",
       " 'CCI20[1]': -76.29893147,\n",
       " 'ADX': 13.83376755,\n",
       " 'ADX+DI': 16.74245916,\n",
       " 'ADX-DI': 22.21608036,\n",
       " 'ADX+DI[1]': 17.32783453,\n",
       " 'ADX-DI[1]': 21.03817912,\n",
       " 'AO': -0.08858618,\n",
       " 'AO[1]': -0.08607853,\n",
       " 'Mom': -0.0267,\n",
       " 'Mom[1]': -0.061,\n",
       " 'MACD.macd': -0.03678563,\n",
       " 'MACD.signal': -0.03112003,\n",
       " 'Rec.Stoch.RSI': 0,\n",
       " 'Stoch.RSI.K': 15.80787318,\n",
       " 'Rec.WR': 1,\n",
       " 'W.R': -82.93897883,\n",
       " 'Rec.BBPower': 0,\n",
       " 'BBPower': -0.09023409,\n",
       " 'Rec.UO': 0,\n",
       " 'UO': 48.36457164,\n",
       " 'close': 0.9854,\n",
       " 'EMA5': 0.99395272,\n",
       " 'SMA5': 0.99708,\n",
       " 'EMA10': 1.00981947,\n",
       " 'SMA10': 0.99946,\n",
       " 'EMA20': 1.04021948,\n",
       " 'SMA20': 1.06106,\n",
       " 'EMA30': 1.06102552,\n",
       " 'SMA30': 1.07855667,\n",
       " 'EMA50': 1.08537875,\n",
       " 'SMA50': 1.099142,\n",
       " 'EMA100': 1.08594976,\n",
       " 'SMA100': 1.155497,\n",
       " 'EMA200': 1.017857,\n",
       " 'SMA200': 1.0211555,\n",
       " 'Rec.Ichimoku': 0,\n",
       " 'Ichimoku.BLine': 1.10215,\n",
       " 'Rec.VWMA': -1,\n",
       " 'VWMA': 1.06302427,\n",
       " 'Rec.HullMA9': -1,\n",
       " 'HullMA9': 0.99137259,\n",
       " 'Pivot.M.Classic.S3': 0.43163333,\n",
       " 'Pivot.M.Classic.S2': 0.74733333,\n",
       " 'Pivot.M.Classic.S1': 0.86606667,\n",
       " 'Pivot.M.Classic.Middle': 1.06303333,\n",
       " 'Pivot.M.Classic.R1': 1.18176667,\n",
       " 'Pivot.M.Classic.R2': 1.37873333,\n",
       " 'Pivot.M.Classic.R3': 1.69443333,\n",
       " 'Pivot.M.Fibonacci.S3': 0.74733333,\n",
       " 'Pivot.M.Fibonacci.S2': 0.86793073,\n",
       " 'Pivot.M.Fibonacci.S1': 0.94243593,\n",
       " 'Pivot.M.Fibonacci.Middle': 1.06303333,\n",
       " 'Pivot.M.Fibonacci.R1': 1.18363073,\n",
       " 'Pivot.M.Fibonacci.R2': 1.25813593,\n",
       " 'Pivot.M.Fibonacci.R3': 1.37873333,\n",
       " 'Pivot.M.Camarilla.S3': 0.8979825,\n",
       " 'Pivot.M.Camarilla.S2': 0.92692167,\n",
       " 'Pivot.M.Camarilla.S1': 0.95586083,\n",
       " 'Pivot.M.Camarilla.Middle': 1.06303333,\n",
       " 'Pivot.M.Camarilla.R1': 1.01373917,\n",
       " 'Pivot.M.Camarilla.R2': 1.04267833,\n",
       " 'Pivot.M.Camarilla.R3': 1.0716175,\n",
       " 'Pivot.M.Woodie.S3': 0.50815,\n",
       " 'Pivot.M.Woodie.S2': 0.726225,\n",
       " 'Pivot.M.Woodie.S1': 0.82385,\n",
       " 'Pivot.M.Woodie.Middle': 1.041925,\n",
       " 'Pivot.M.Woodie.R1': 1.13955,\n",
       " 'Pivot.M.Woodie.R2': 1.357625,\n",
       " 'Pivot.M.Woodie.R3': 1.45525,\n",
       " 'Pivot.M.Demark.S1': 0.8067,\n",
       " 'Pivot.M.Demark.Middle': 1.03335,\n",
       " 'Pivot.M.Demark.R1': 1.1224,\n",
       " 'open': 0.9817,\n",
       " 'P.SAR': 1.04084438,\n",
       " 'BB.lower': 0.91357079,\n",
       " 'BB.upper': 1.20854921,\n",
       " 'AO[2]': -0.09085765,\n",
       " 'volume': 48051.666,\n",
       " 'change': 0.06092608,\n",
       " 'low': 0.9623,\n",
       " 'high': 0.9877}"
      ]
     },
     "execution_count": 29,
     "metadata": {},
     "output_type": "execute_result"
    }
   ],
   "source": [
    "analysis.indicators"
   ]
  },
  {
   "cell_type": "code",
   "execution_count": 30,
   "id": "d69ce9b2-b669-49f0-9c33-0d050135dcb4",
   "metadata": {},
   "outputs": [
    {
     "data": {
      "text/plain": [
       "1.20854921"
      ]
     },
     "execution_count": 30,
     "metadata": {},
     "output_type": "execute_result"
    }
   ],
   "source": [
    "bbHigh = analysis.indicators['BB.upper']\n",
    "bbHigh"
   ]
  },
  {
   "cell_type": "code",
   "execution_count": 31,
   "id": "e72a19c7-98e0-497a-82f8-34a8d7fd6ba6",
   "metadata": {},
   "outputs": [
    {
     "data": {
      "text/plain": [
       "0.9854"
      ]
     },
     "execution_count": 31,
     "metadata": {},
     "output_type": "execute_result"
    }
   ],
   "source": [
    "close = analysis.indicators['close']\n",
    "close"
   ]
  },
  {
   "cell_type": "code",
   "execution_count": 32,
   "id": "5c00473f-d9c7-4933-aee4-1283f565d1f7",
   "metadata": {},
   "outputs": [
    {
     "data": {
      "text/plain": [
       "1.07855667"
      ]
     },
     "execution_count": 32,
     "metadata": {},
     "output_type": "execute_result"
    }
   ],
   "source": [
    "sma30 = analysis.indicators['SMA30']\n",
    "sma30"
   ]
  },
  {
   "cell_type": "code",
   "execution_count": 33,
   "id": "ef879ad4-8ea2-4416-b915-64db9ce3b34a",
   "metadata": {},
   "outputs": [
    {
     "data": {
      "text/plain": [
       "0.99946"
      ]
     },
     "execution_count": 33,
     "metadata": {},
     "output_type": "execute_result"
    }
   ],
   "source": [
    "sma10 = analysis.indicators['SMA10']\n",
    "sma10"
   ]
  },
  {
   "cell_type": "code",
   "execution_count": 34,
   "id": "6957cebf-5b7b-40fe-9897-9eedbe9b3979",
   "metadata": {},
   "outputs": [
    {
     "data": {
      "text/plain": [
       "0.91357079"
      ]
     },
     "execution_count": 34,
     "metadata": {},
     "output_type": "execute_result"
    }
   ],
   "source": [
    "bbLow = analysis.indicators['BB.lower']\n",
    "bbLow"
   ]
  },
  {
   "cell_type": "code",
   "execution_count": 35,
   "id": "d3ac85b9-04fb-4803-8663-c6384fd9b224",
   "metadata": {},
   "outputs": [
    {
     "data": {
      "text/plain": [
       "-8.637160437754275"
      ]
     },
     "execution_count": 35,
     "metadata": {},
     "output_type": "execute_result"
    }
   ],
   "source": [
    "percInc30 = (close/sma30 * 100) - 100\n",
    "percInc30"
   ]
  },
  {
   "cell_type": "code",
   "execution_count": 36,
   "id": "c084bc15-dd71-4a63-bcc4-5a47209165fe",
   "metadata": {},
   "outputs": [
    {
     "data": {
      "text/plain": [
       "-1.4067596502111144"
      ]
     },
     "execution_count": 36,
     "metadata": {},
     "output_type": "execute_result"
    }
   ],
   "source": [
    "percInc10 = (close/sma10 * 100) - 100\n",
    "percInc10"
   ]
  },
  {
   "cell_type": "code",
   "execution_count": 37,
   "id": "b3a5727f-704c-466d-8047-81a7442f8ac6",
   "metadata": {},
   "outputs": [
    {
     "data": {
      "text/plain": [
       "['Recommend.Other',\n",
       " 'Recommend.All',\n",
       " 'Recommend.MA',\n",
       " 'RSI',\n",
       " 'RSI[1]',\n",
       " 'Stoch.K',\n",
       " 'Stoch.D',\n",
       " 'Stoch.K[1]',\n",
       " 'Stoch.D[1]',\n",
       " 'CCI20',\n",
       " 'CCI20[1]',\n",
       " 'ADX',\n",
       " 'ADX+DI',\n",
       " 'ADX-DI',\n",
       " 'ADX+DI[1]',\n",
       " 'ADX-DI[1]',\n",
       " 'AO',\n",
       " 'AO[1]',\n",
       " 'Mom',\n",
       " 'Mom[1]',\n",
       " 'MACD.macd',\n",
       " 'MACD.signal',\n",
       " 'Rec.Stoch.RSI',\n",
       " 'Stoch.RSI.K',\n",
       " 'Rec.WR',\n",
       " 'W.R',\n",
       " 'Rec.BBPower',\n",
       " 'BBPower',\n",
       " 'Rec.UO',\n",
       " 'UO',\n",
       " 'close',\n",
       " 'EMA5',\n",
       " 'SMA5',\n",
       " 'EMA10',\n",
       " 'SMA10',\n",
       " 'EMA20',\n",
       " 'SMA20',\n",
       " 'EMA30',\n",
       " 'SMA30',\n",
       " 'EMA50',\n",
       " 'SMA50',\n",
       " 'EMA100',\n",
       " 'SMA100',\n",
       " 'EMA200',\n",
       " 'SMA200',\n",
       " 'Rec.Ichimoku',\n",
       " 'Ichimoku.BLine',\n",
       " 'Rec.VWMA',\n",
       " 'VWMA',\n",
       " 'Rec.HullMA9',\n",
       " 'HullMA9',\n",
       " 'Pivot.M.Classic.S3',\n",
       " 'Pivot.M.Classic.S2',\n",
       " 'Pivot.M.Classic.S1',\n",
       " 'Pivot.M.Classic.Middle',\n",
       " 'Pivot.M.Classic.R1',\n",
       " 'Pivot.M.Classic.R2',\n",
       " 'Pivot.M.Classic.R3',\n",
       " 'Pivot.M.Fibonacci.S3',\n",
       " 'Pivot.M.Fibonacci.S2',\n",
       " 'Pivot.M.Fibonacci.S1',\n",
       " 'Pivot.M.Fibonacci.Middle',\n",
       " 'Pivot.M.Fibonacci.R1',\n",
       " 'Pivot.M.Fibonacci.R2',\n",
       " 'Pivot.M.Fibonacci.R3',\n",
       " 'Pivot.M.Camarilla.S3',\n",
       " 'Pivot.M.Camarilla.S2',\n",
       " 'Pivot.M.Camarilla.S1',\n",
       " 'Pivot.M.Camarilla.Middle',\n",
       " 'Pivot.M.Camarilla.R1',\n",
       " 'Pivot.M.Camarilla.R2',\n",
       " 'Pivot.M.Camarilla.R3',\n",
       " 'Pivot.M.Woodie.S3',\n",
       " 'Pivot.M.Woodie.S2',\n",
       " 'Pivot.M.Woodie.S1',\n",
       " 'Pivot.M.Woodie.Middle',\n",
       " 'Pivot.M.Woodie.R1',\n",
       " 'Pivot.M.Woodie.R2',\n",
       " 'Pivot.M.Woodie.R3',\n",
       " 'Pivot.M.Demark.S1',\n",
       " 'Pivot.M.Demark.Middle',\n",
       " 'Pivot.M.Demark.R1',\n",
       " 'open',\n",
       " 'P.SAR',\n",
       " 'BB.lower',\n",
       " 'BB.upper',\n",
       " 'AO[2]',\n",
       " 'volume',\n",
       " 'change',\n",
       " 'low',\n",
       " 'high']"
      ]
     },
     "execution_count": 37,
     "metadata": {},
     "output_type": "execute_result"
    }
   ],
   "source": [
    "handler.indicators"
   ]
  },
  {
   "cell_type": "markdown",
   "id": "1d0500f1-aaeb-4865-b36d-bf0ba3a01839",
   "metadata": {},
   "source": [
    "### Will try signals from here \n",
    "https://taapi.io/indicators/pivot-points/"
   ]
  },
  {
   "cell_type": "markdown",
   "id": "ce7843a7-a20f-4cf3-bcf0-1a56b400ed64",
   "metadata": {},
   "source": [
    "import requests\n",
    "\n",
    "api_url = \"https://jsonplaceholder.typicode.com/todos/1\"\n",
    "\n",
    "response = requests.get(api_url)\n",
    "\n",
    "response.json()"
   ]
  },
  {
   "cell_type": "code",
   "execution_count": null,
   "id": "b9fa8d31-7bbe-41e7-9a6f-0681a5bb287f",
   "metadata": {},
   "outputs": [],
   "source": []
  },
  {
   "cell_type": "code",
   "execution_count": 38,
   "id": "bae27673-7351-4b4e-a24e-0a364dd94712",
   "metadata": {},
   "outputs": [],
   "source": [
    "#key='ccc'"
   ]
  },
  {
   "cell_type": "markdown",
   "id": "d91bbbdf-a026-47fe-a1c8-57df1468b653",
   "metadata": {},
   "source": [
    "#### [GET] https://api.taapi.io/pivotpoints?secret=MY_SECRET&exchange=binance&symbol=BTC/USDT&interval=1h"
   ]
  },
  {
   "cell_type": "code",
   "execution_count": 39,
   "id": "52a15d75-6eba-43a1-baf8-1446efc8e4a9",
   "metadata": {},
   "outputs": [],
   "source": [
    "#api_url = f\"https://api.taapi.io/pivotpoints?secret={key}&exchange=binance&symbol=BTC/USDT&interval=1w\""
   ]
  },
  {
   "cell_type": "code",
   "execution_count": 40,
   "id": "7048a83e-e24f-4a5b-88c7-b60259e05078",
   "metadata": {},
   "outputs": [],
   "source": [
    "#api_url"
   ]
  },
  {
   "cell_type": "code",
   "execution_count": 41,
   "id": "4442881e-5854-465e-9da7-d857bff3820e",
   "metadata": {},
   "outputs": [],
   "source": [
    "# response = requests.get(api_url)\n",
    "# response"
   ]
  },
  {
   "cell_type": "code",
   "execution_count": 42,
   "id": "a106866b-634c-43be-bd3a-441d81c8ca7d",
   "metadata": {},
   "outputs": [],
   "source": [
    "# response.json()"
   ]
  },
  {
   "cell_type": "markdown",
   "id": "c00d8bc8-bf67-4833-8dd4-73c6b8af0dc3",
   "metadata": {},
   "source": [
    "## get all symbols from Yahoo"
   ]
  },
  {
   "cell_type": "markdown",
   "id": "0d5eed27-0c66-48fc-b961-4b827d75f1c9",
   "metadata": {},
   "source": [
    "#### There are three major stock exchanges in the US. They are the Dow, NASDAQ and S&P 500. There is a fourth category of symbols called “others”. We download each category of lists to separate pandas dataframes."
   ]
  },
  {
   "cell_type": "code",
   "execution_count": 43,
   "id": "112b775f-3b56-493c-9db2-0f12b3683d06",
   "metadata": {},
   "outputs": [],
   "source": [
    "df1 = pd.DataFrame( si.tickers_sp500() )\n",
    "df2 = pd.DataFrame( si.tickers_nasdaq() )\n",
    "df3 = pd.DataFrame( si.tickers_dow() )\n",
    "df4 = pd.DataFrame( si.tickers_other() )"
   ]
  },
  {
   "cell_type": "markdown",
   "id": "8f92e3fd-5cf1-463d-bd42-479378565475",
   "metadata": {},
   "source": [
    "#### Next, we convert each dataframe to a list, then to a set."
   ]
  },
  {
   "cell_type": "code",
   "execution_count": 44,
   "id": "071ed3d9-cd03-4c67-a84e-caaf8ca61204",
   "metadata": {},
   "outputs": [],
   "source": [
    "sym1 = set( symbol for symbol in df1[0].values.tolist() )\n",
    "sym2 = set( symbol for symbol in df2[0].values.tolist() )\n",
    "sym3 = set( symbol for symbol in df3[0].values.tolist() )\n",
    "sym4 = set( symbol for symbol in df4[0].values.tolist() )"
   ]
  },
  {
   "cell_type": "code",
   "execution_count": 45,
   "id": "5ee2d3bf-5d50-4c53-bb36-3c182ba3b25d",
   "metadata": {},
   "outputs": [],
   "source": [
    "#sym1"
   ]
  },
  {
   "cell_type": "markdown",
   "id": "2ef84c80-047c-4163-a03d-aca1fb5d18bd",
   "metadata": {},
   "source": [
    "#### Stock symbols may be listed on more than one exchange. We join the four sets into one. Because it is a set, there will be no duplicate symbols."
   ]
  },
  {
   "cell_type": "code",
   "execution_count": 46,
   "id": "33c66784-5518-413c-bcc6-97c37ec7ee84",
   "metadata": {},
   "outputs": [],
   "source": [
    "symbols = set.union( sym1, sym2, sym3, sym4 )"
   ]
  },
  {
   "cell_type": "markdown",
   "id": "98cb9d5b-e485-4422-92fa-6aab2fb52009",
   "metadata": {},
   "source": [
    "#### Most symbols are up to four letters in length, ie: MSFT for Microsoft. There are some symbols that have a fifth letter. A fifth letter is mostly added to stocks that are delinquent in certain exchange requirements. We’ll identify four of those suffixes for deletion."
   ]
  },
  {
   "cell_type": "code",
   "execution_count": 47,
   "id": "10c4e888-75c8-495f-a171-1d9844de6730",
   "metadata": {},
   "outputs": [],
   "source": [
    "my_list = ['W', 'R', 'P', 'Q']"
   ]
  },
  {
   "cell_type": "markdown",
   "id": "2872114f-1e02-4c5d-a05e-51e25814df02",
   "metadata": {},
   "source": [
    "\n",
    "W means there are outstanding warrants. We don’t want those.\n",
    "R means there is some kind of “rights” issue. Again, not wanted.\n",
    "P means “First Preferred Issue”. Preferred stocks are a separate entity.\n",
    "Q means bankruptcy. We don’t want those, either."
   ]
  },
  {
   "cell_type": "markdown",
   "id": "22c9916f-5349-4a6a-9954-1361900ad8c1",
   "metadata": {},
   "source": [
    "We need to initiate two sets; a save set and a delete set."
   ]
  },
  {
   "cell_type": "code",
   "execution_count": 48,
   "id": "bd58e48f-135c-4b48-937b-90a39ba8ab44",
   "metadata": {},
   "outputs": [],
   "source": [
    "del_set = set()\n",
    "sav_set = set()\n",
    "del_set_nasdaq = set()\n",
    "sav_set_nasdaq = set()\n",
    "del_set_spx = set()\n",
    "sav_set_spx = set()"
   ]
  },
  {
   "cell_type": "markdown",
   "id": "04bc1a23-8f5d-4248-b2cd-1ff166eb6a04",
   "metadata": {},
   "source": [
    "Next, we find the symbols over four characters in length AND have their last letter in my_list. When found, they are added to del_set. All other symbols are added to sav_set."
   ]
  },
  {
   "cell_type": "code",
   "execution_count": 49,
   "id": "fd559df7-9e36-4b37-bbb8-5fcd7c93efdd",
   "metadata": {},
   "outputs": [],
   "source": [
    "for symbol in symbols:\n",
    "    if len( symbol ) > 4 and symbol[-1] in my_list:\n",
    "        del_set.add( symbol )\n",
    "    else:\n",
    "        sav_set.add( symbol )"
   ]
  },
  {
   "cell_type": "code",
   "execution_count": 50,
   "id": "cdee19bc-c426-4a0f-bb42-4805689e6c00",
   "metadata": {},
   "outputs": [],
   "source": [
    "# ONly SPX\n",
    "for symbol in sym1:\n",
    "    if len( symbol ) > 4 and symbol[-1] in my_list:\n",
    "        del_set_spx.add( symbol )\n",
    "    else:\n",
    "        sav_set_spx.add( symbol )"
   ]
  },
  {
   "cell_type": "code",
   "execution_count": 51,
   "id": "4638c057-e37d-45e4-99d3-2ce782a163b7",
   "metadata": {},
   "outputs": [],
   "source": [
    "# ONly Nasdaq\n",
    "for symbol in sym2:\n",
    "    if len( symbol ) > 4 and symbol[-1] in my_list:\n",
    "        del_set_nasdaq.add( symbol )\n",
    "    else:\n",
    "        sav_set_nasdaq.add( symbol )"
   ]
  },
  {
   "cell_type": "code",
   "execution_count": 52,
   "id": "5ba9e9f2-2f7a-4a77-9a0f-49730c6b3bb6",
   "metadata": {},
   "outputs": [
    {
     "name": "stdout",
     "output_type": "stream",
     "text": [
      "ALL Removed 918 unqualified stock symbols...\n",
      "ALL There are 10607 qualified stock symbols...\n"
     ]
    }
   ],
   "source": [
    "print( f'ALL Removed {len( del_set )} unqualified stock symbols...' )\n",
    "print( f'ALL There are {len( sav_set )} qualified stock symbols...' )"
   ]
  },
  {
   "cell_type": "code",
   "execution_count": 53,
   "id": "0d0f734e-d826-45b7-a4c8-574bcd877ef2",
   "metadata": {},
   "outputs": [
    {
     "name": "stdout",
     "output_type": "stream",
     "text": [
      "SPX Removed 0 unqualified stock symbols...\n",
      "SPX There are 503 qualified stock symbols...\n"
     ]
    }
   ],
   "source": [
    "print( f'SPX Removed {len( del_set_spx )} unqualified stock symbols...' )\n",
    "print( f'SPX There are {len( sav_set_spx )} qualified stock symbols...' )"
   ]
  },
  {
   "cell_type": "code",
   "execution_count": 54,
   "id": "d9a21644-f513-4ed9-a519-bc6148e84364",
   "metadata": {},
   "outputs": [
    {
     "name": "stdout",
     "output_type": "stream",
     "text": [
      "Nasdaq Removed 711 unqualified stock symbols...\n",
      "Nasdaq There are 4585 qualified stock symbols...\n"
     ]
    }
   ],
   "source": [
    "print( f'Nasdaq Removed {len( del_set_nasdaq )} unqualified stock symbols...' )\n",
    "print( f'Nasdaq There are {len( sav_set_nasdaq )} qualified stock symbols...' )"
   ]
  },
  {
   "cell_type": "code",
   "execution_count": 55,
   "id": "b70ecd72-5cb7-4c18-8290-020a19a62605",
   "metadata": {},
   "outputs": [],
   "source": [
    "ticker_data = tv.get_hist(symbol= 'GPN',exchange=\"NYSE\",interval=TVInterval.in_1_hour, n_bars=1000)"
   ]
  },
  {
   "cell_type": "code",
   "execution_count": 56,
   "id": "3a495d98-c71f-44b2-b79c-608ee25689e4",
   "metadata": {},
   "outputs": [
    {
     "data": {
      "text/html": [
       "<div>\n",
       "<style scoped>\n",
       "    .dataframe tbody tr th:only-of-type {\n",
       "        vertical-align: middle;\n",
       "    }\n",
       "\n",
       "    .dataframe tbody tr th {\n",
       "        vertical-align: top;\n",
       "    }\n",
       "\n",
       "    .dataframe thead th {\n",
       "        text-align: right;\n",
       "    }\n",
       "</style>\n",
       "<table border=\"1\" class=\"dataframe\">\n",
       "  <thead>\n",
       "    <tr style=\"text-align: right;\">\n",
       "      <th></th>\n",
       "      <th>symbol</th>\n",
       "      <th>open</th>\n",
       "      <th>high</th>\n",
       "      <th>low</th>\n",
       "      <th>close</th>\n",
       "      <th>volume</th>\n",
       "    </tr>\n",
       "    <tr>\n",
       "      <th>datetime</th>\n",
       "      <th></th>\n",
       "      <th></th>\n",
       "      <th></th>\n",
       "      <th></th>\n",
       "      <th></th>\n",
       "      <th></th>\n",
       "    </tr>\n",
       "  </thead>\n",
       "  <tbody>\n",
       "    <tr>\n",
       "      <th>2022-10-03 11:30:00</th>\n",
       "      <td>NYSE:GPN</td>\n",
       "      <td>111.01</td>\n",
       "      <td>111.190</td>\n",
       "      <td>110.76</td>\n",
       "      <td>111.00</td>\n",
       "      <td>18463.0</td>\n",
       "    </tr>\n",
       "    <tr>\n",
       "      <th>2022-10-03 12:30:00</th>\n",
       "      <td>NYSE:GPN</td>\n",
       "      <td>111.00</td>\n",
       "      <td>111.080</td>\n",
       "      <td>110.47</td>\n",
       "      <td>110.69</td>\n",
       "      <td>22006.0</td>\n",
       "    </tr>\n",
       "    <tr>\n",
       "      <th>2022-10-04 06:30:00</th>\n",
       "      <td>NYSE:GPN</td>\n",
       "      <td>113.24</td>\n",
       "      <td>114.880</td>\n",
       "      <td>113.24</td>\n",
       "      <td>114.76</td>\n",
       "      <td>4907.0</td>\n",
       "    </tr>\n",
       "    <tr>\n",
       "      <th>2022-10-04 07:30:00</th>\n",
       "      <td>NYSE:GPN</td>\n",
       "      <td>115.29</td>\n",
       "      <td>115.670</td>\n",
       "      <td>114.92</td>\n",
       "      <td>115.43</td>\n",
       "      <td>5208.0</td>\n",
       "    </tr>\n",
       "    <tr>\n",
       "      <th>2022-10-04 08:30:00</th>\n",
       "      <td>NYSE:GPN</td>\n",
       "      <td>115.35</td>\n",
       "      <td>115.875</td>\n",
       "      <td>115.09</td>\n",
       "      <td>115.87</td>\n",
       "      <td>2600.0</td>\n",
       "    </tr>\n",
       "  </tbody>\n",
       "</table>\n",
       "</div>"
      ],
      "text/plain": [
       "                       symbol    open     high     low   close   volume\n",
       "datetime                                                               \n",
       "2022-10-03 11:30:00  NYSE:GPN  111.01  111.190  110.76  111.00  18463.0\n",
       "2022-10-03 12:30:00  NYSE:GPN  111.00  111.080  110.47  110.69  22006.0\n",
       "2022-10-04 06:30:00  NYSE:GPN  113.24  114.880  113.24  114.76   4907.0\n",
       "2022-10-04 07:30:00  NYSE:GPN  115.29  115.670  114.92  115.43   5208.0\n",
       "2022-10-04 08:30:00  NYSE:GPN  115.35  115.875  115.09  115.87   2600.0"
      ]
     },
     "execution_count": 56,
     "metadata": {},
     "output_type": "execute_result"
    }
   ],
   "source": [
    "ticker_data.head()"
   ]
  },
  {
   "cell_type": "code",
   "execution_count": 90,
   "id": "42d9f7a4-3e11-45c6-b39b-fe5b9dd1008d",
   "metadata": {},
   "outputs": [],
   "source": [
    "### Function getAnalysisIndicators\n",
    "# params: tickerSet   - its all the S&P or Nasdaq Tickers set for \n",
    "#                        which we want Trading View Recommendations\n",
    "#         interval1   - is the first call to TradingView through the Handler\n",
    "#         interval2   - this is for the history we get\n",
    "#         bars        - is the # of bars for history\n",
    "#         adoscCnt    - this is the last \"n\" volume ASDOSC we will concatenate \n",
    "#                         to see volume direction. \n",
    "#                       will get this only for Strong Buy / Strong Sell and leave others blanlk.\n",
    "#\n",
    "#         will return a pandas Dateframe - returnDF\n",
    "\n",
    "def getAnalysisIndicators ( tickerSet, interval1, interval2, bars, adoscCnt):\n",
    "\n",
    "    #column_names = [\"Symbol\", \"RECOMMENDATION\", \"BUY\", \"SELL\", \"NEUTRAL\", \"screener\", \"exchange\", \"interval\" ]\n",
    "    column_names = [\"Symbol\", \"RECOMMENDATION\", \"BUY\", \"SELL\", \"NEUTRAL\", \"ClosePrice\", \"percInc30\", \"percInc10\", \"bbHigh\", \"bbLow\", \"screener\", \"exchange\", \"interval\", \"AdoscLastN\" ]\n",
    "\n",
    "    # initialize an empty dataframe\n",
    "    returnDf = pd.DataFrame(columns = column_names)\n",
    "\n",
    "    i = 0\n",
    "    for ss in tickerSet:\n",
    "        i = i + 1\n",
    "        print(i)\n",
    "        exchange=\"NYSE\"\n",
    "        #print(ss)\n",
    "        try:\n",
    "            print(\"From Main Get Analysis 1st attempt - symbol = \"+ss + \" \" + exchange)\n",
    "            returnDf = getAnalysis ( ss, returnDf, exchange, interval1, interval2, bars, adoscCnt)\n",
    "        except Exception as error_message:\n",
    "            exchange=\"NASDAQ\"\n",
    "            print(\"From Main Get Analysis 2nd attempt - symbol = \"+ss + \" \" + exchange)\n",
    "            try:\n",
    "                returnDf = getAnalysis ( ss, returnDf, exchange, interval1, interval2, bars, adoscCnt)        \n",
    "            except Exception as error_message:\n",
    "                print('getAnalysis ERROR', error_message)\n",
    "                error = 1  \n",
    "#         if i == 25:\n",
    "#             break\n",
    "    \n",
    "    \n",
    "    \n",
    "    return returnDf"
   ]
  },
  {
   "cell_type": "code",
   "execution_count": 91,
   "id": "43a378f0-6872-41e8-bb6d-21be933fa339",
   "metadata": {},
   "outputs": [],
   "source": [
    "### Function getAnalysis\n",
    "# for each symbol will get analysis and then calls getHistIndicators and will append to our dataframe\n",
    "\n",
    "# params: symb        - Symbol\n",
    "#         exch        - Exchange\n",
    "#         interval2   - this is for the history we get\n",
    "#         bars        - is the # of bars for history\n",
    "#         adoscCnt    - this is the last \"n\" volume ASDOSC we will concatenate \n",
    "#                         to see volume direction. \n",
    "#\n",
    "#         will return concatenated last adosCnt for now\n",
    "\n",
    "\n",
    "def getAnalysis ( symb, returnDf, exch, interval1, interval2, bars, adoscCnt):\n",
    "    \n",
    "    print(\"BEfORE TA HANDLER--- symbol = \"+symb + \" \" + exch + \" \" + str(interval1))\n",
    "    output = TA_Handler(\n",
    "    symbol=symb,\n",
    "    screener=\"america\",\n",
    "    exchange=exch,\n",
    "    interval=interval1)\n",
    "    try:\n",
    "        print(\"inside getAnalysis- ta handler succeeded\")\n",
    "    except Exception as error_message:\n",
    "        print('TA handler ERROR', error_message)\n",
    "        error = 1     \n",
    "        return returnDf\n",
    "    print(\"symbol = \"+symb + \" \" + exch)\n",
    "    analysis = output.get_analysis()\n",
    "    bbLow = analysis.indicators['BB.lower']\n",
    "    bbHigh = analysis.indicators['BB.upper']\n",
    "    close = analysis.indicators['close']\n",
    "    sma30 = analysis.indicators['SMA30']\n",
    "    sma10 = analysis.indicators['SMA10']\n",
    "    percInc30 = (close/sma30 * 100) - 100\n",
    "    percInc10 = (close/sma10 * 100) - 100        \n",
    "    print(output.get_analysis().summary)\n",
    "    dict1 = output.get_analysis().summary\n",
    "\n",
    "    # get last ex. 8 (adoscCnt) ADOSC volume if strong buy or sell.\n",
    "    concatAdosc = \" \"\n",
    "    if ( dict1['RECOMMENDATION'] == \"STRONG_BUY\" or dict1['RECOMMENDATION'] == \"STRONG_SELL\"):\n",
    "        try: \n",
    "            print(\" from getAnalysis about to call getHistIndi first time\")\n",
    "            concatAdosc = getHistIndicators ( symb, \"NYSE\", interval2, bars, adoscCnt)\n",
    "        except Exception as error_message:\n",
    "            try:\n",
    "                print(\" from getAnalysis about to call getHistIndi 2nd time\")\n",
    "                concatAdosc = getHistIndicators ( symb, \"NASDAQ\", interval2, bars, adoscCnt)   \n",
    "            except Exception as error_message:\n",
    "                print('getHistIndicators ERROR', error_message)\n",
    "                error = 1 \n",
    "    returnDf = returnDf.append({'Symbol': symb, 'RECOMMENDATION' :dict1['RECOMMENDATION'], 'BUY': dict1['BUY'], \n",
    "                           'SELL': dict1['SELL'], 'NEUTRAL': dict1['NEUTRAL'], \n",
    "                            'ClosePrice': close, 'percInc30': percInc30, 'percInc10': percInc10,'bbHigh': bbHigh, 'bbLow': bbLow,\n",
    "                            'screener' : \"america\",\n",
    "                           'exchange' : exch, 'interval': interval1, 'AdoscLastN': concatAdosc }, ignore_index=True)\n",
    "    \n",
    "\n",
    "\n",
    "    return returnDf\n",
    "    \n",
    "    \n",
    "    "
   ]
  },
  {
   "cell_type": "code",
   "execution_count": 92,
   "id": "f507b54f-9274-4506-ab97-beb79fa6fef7",
   "metadata": {},
   "outputs": [],
   "source": [
    "### Function getHistIndicators\n",
    "# params: symb        - Symbol\n",
    "#         exch        - Exchange\n",
    "#         interval2   - this is for the history we get\n",
    "#         bars        - is the # of bars for history\n",
    "#         adoscCnt    - this is the last \"n\" volume ASDOSC we will concatenate \n",
    "#                         to see volume direction. \n",
    "#\n",
    "#         will return concatenated last adosCnt for now\n",
    "\n",
    "\n",
    "def getHistIndicators ( symb, exch, interval2, bars, adoscCnt):\n",
    "    # get history first\n",
    "    ticker_data = tv.get_hist(symbol= symb,exchange=exch,interval=interval2, n_bars=bars)\n",
    "    # get ADOSC indicator for the history\n",
    "    adoscTicker = talib.ADOSC(ticker_data['high'],ticker_data['low'],ticker_data['close'],ticker_data['volume'],3,10)\n",
    "    #print(row['Symbol'], adoscTicker.tail(5))\n",
    "    # we keep last 8 (adoscCnt) volume ADOSC historty concatenated \n",
    "    lastAdosc = adoscTicker.tail(adoscCnt)\n",
    "    concatAdosc = \" \"\n",
    "    # concatenate them into a string\n",
    "    for atCntr in lastAdosc:\n",
    "        concatAdosc = concatAdosc + \" \" + str(round(atCntr,2))   # doing 2 decimals for ADOSC\n",
    "    #print(\" Symbol and ADOSC = \", symb )\n",
    "    return concatAdosc\n",
    "\n"
   ]
  },
  {
   "cell_type": "markdown",
   "id": "470d20c1-3013-41b9-86a7-2293649e701c",
   "metadata": {},
   "source": [
    "### Get S&P tickers Trading View Recommendation and ADOSC volume from History"
   ]
  },
  {
   "cell_type": "code",
   "execution_count": 94,
   "id": "6c82ae28-8937-4ccb-b069-03926a66c0ad",
   "metadata": {},
   "outputs": [
    {
     "name": "stdout",
     "output_type": "stream",
     "text": [
      "1\n",
      "From Main Get Analysis 1st attempt - symbol = TPR NYSE\n",
      "BEfORE TA HANDLER--- symbol = TPR NYSE 1d\n",
      "inside getAnalysis- ta handler succeeded\n",
      "symbol = TPR NYSE\n",
      "{'RECOMMENDATION': 'SELL', 'BUY': 4, 'SELL': 12, 'NEUTRAL': 10}\n",
      "2\n",
      "From Main Get Analysis 1st attempt - symbol = UNH NYSE\n",
      "BEfORE TA HANDLER--- symbol = UNH NYSE 1d\n",
      "inside getAnalysis- ta handler succeeded\n",
      "symbol = UNH NYSE\n",
      "{'RECOMMENDATION': 'NEUTRAL', 'BUY': 9, 'SELL': 9, 'NEUTRAL': 8}\n",
      "3\n",
      "From Main Get Analysis 1st attempt - symbol = ON NYSE\n",
      "BEfORE TA HANDLER--- symbol = ON NYSE 1d\n",
      "inside getAnalysis- ta handler succeeded\n",
      "symbol = ON NYSE\n",
      "From Main Get Analysis 2nd attempt - symbol = ON NASDAQ\n",
      "BEfORE TA HANDLER--- symbol = ON NASDAQ 1d\n",
      "inside getAnalysis- ta handler succeeded\n",
      "symbol = ON NASDAQ\n",
      "{'RECOMMENDATION': 'SELL', 'BUY': 5, 'SELL': 12, 'NEUTRAL': 9}\n",
      "4\n",
      "From Main Get Analysis 1st attempt - symbol = IR NYSE\n",
      "BEfORE TA HANDLER--- symbol = IR NYSE 1d\n",
      "inside getAnalysis- ta handler succeeded\n",
      "symbol = IR NYSE\n",
      "{'RECOMMENDATION': 'STRONG_BUY', 'BUY': 17, 'SELL': 1, 'NEUTRAL': 8}\n",
      " from getAnalysis about to call getHistIndi first time\n",
      "5\n",
      "From Main Get Analysis 1st attempt - symbol = XYL NYSE\n",
      "BEfORE TA HANDLER--- symbol = XYL NYSE 1d\n",
      "inside getAnalysis- ta handler succeeded\n",
      "symbol = XYL NYSE\n",
      "{'RECOMMENDATION': 'BUY', 'BUY': 15, 'SELL': 2, 'NEUTRAL': 9}\n",
      "6\n",
      "From Main Get Analysis 1st attempt - symbol = SPG NYSE\n",
      "BEfORE TA HANDLER--- symbol = SPG NYSE 1d\n",
      "inside getAnalysis- ta handler succeeded\n",
      "symbol = SPG NYSE\n",
      "{'RECOMMENDATION': 'BUY', 'BUY': 13, 'SELL': 3, 'NEUTRAL': 10}\n",
      "7\n",
      "From Main Get Analysis 1st attempt - symbol = LVS NYSE\n",
      "BEfORE TA HANDLER--- symbol = LVS NYSE 1d\n",
      "inside getAnalysis- ta handler succeeded\n",
      "symbol = LVS NYSE\n",
      "{'RECOMMENDATION': 'STRONG_BUY', 'BUY': 16, 'SELL': 0, 'NEUTRAL': 10}\n",
      " from getAnalysis about to call getHistIndi first time\n",
      "8\n",
      "From Main Get Analysis 1st attempt - symbol = ZBRA NYSE\n",
      "BEfORE TA HANDLER--- symbol = ZBRA NYSE 1d\n",
      "inside getAnalysis- ta handler succeeded\n",
      "symbol = ZBRA NYSE\n",
      "From Main Get Analysis 2nd attempt - symbol = ZBRA NASDAQ\n",
      "BEfORE TA HANDLER--- symbol = ZBRA NASDAQ 1d\n",
      "inside getAnalysis- ta handler succeeded\n",
      "symbol = ZBRA NASDAQ\n",
      "{'RECOMMENDATION': 'SELL', 'BUY': 2, 'SELL': 14, 'NEUTRAL': 10}\n",
      "9\n",
      "From Main Get Analysis 1st attempt - symbol = KMX NYSE\n",
      "BEfORE TA HANDLER--- symbol = KMX NYSE 1d\n",
      "inside getAnalysis- ta handler succeeded\n",
      "symbol = KMX NYSE\n",
      "{'RECOMMENDATION': 'BUY', 'BUY': 13, 'SELL': 3, 'NEUTRAL': 10}\n",
      "10\n",
      "From Main Get Analysis 1st attempt - symbol = SEDG NYSE\n",
      "BEfORE TA HANDLER--- symbol = SEDG NYSE 1d\n",
      "inside getAnalysis- ta handler succeeded\n",
      "symbol = SEDG NYSE\n",
      "From Main Get Analysis 2nd attempt - symbol = SEDG NASDAQ\n",
      "BEfORE TA HANDLER--- symbol = SEDG NASDAQ 1d\n",
      "inside getAnalysis- ta handler succeeded\n",
      "symbol = SEDG NASDAQ\n",
      "{'RECOMMENDATION': 'SELL', 'BUY': 2, 'SELL': 15, 'NEUTRAL': 9}\n",
      "11\n",
      "From Main Get Analysis 1st attempt - symbol = ROK NYSE\n",
      "BEfORE TA HANDLER--- symbol = ROK NYSE 1d\n",
      "inside getAnalysis- ta handler succeeded\n",
      "symbol = ROK NYSE\n",
      "{'RECOMMENDATION': 'BUY', 'BUY': 15, 'SELL': 1, 'NEUTRAL': 10}\n",
      "12\n",
      "From Main Get Analysis 1st attempt - symbol = UDR NYSE\n",
      "BEfORE TA HANDLER--- symbol = UDR NYSE 1d\n",
      "inside getAnalysis- ta handler succeeded\n",
      "symbol = UDR NYSE\n",
      "{'RECOMMENDATION': 'BUY', 'BUY': 14, 'SELL': 2, 'NEUTRAL': 10}\n",
      "13\n",
      "From Main Get Analysis 1st attempt - symbol = YUM NYSE\n",
      "BEfORE TA HANDLER--- symbol = YUM NYSE 1d\n",
      "inside getAnalysis- ta handler succeeded\n",
      "symbol = YUM NYSE\n",
      "{'RECOMMENDATION': 'STRONG_BUY', 'BUY': 18, 'SELL': 1, 'NEUTRAL': 7}\n",
      " from getAnalysis about to call getHistIndi first time\n",
      "14\n",
      "From Main Get Analysis 1st attempt - symbol = AMCR NYSE\n",
      "BEfORE TA HANDLER--- symbol = AMCR NYSE 1d\n",
      "inside getAnalysis- ta handler succeeded\n",
      "symbol = AMCR NYSE\n",
      "{'RECOMMENDATION': 'SELL', 'BUY': 3, 'SELL': 13, 'NEUTRAL': 10}\n",
      "15\n",
      "From Main Get Analysis 1st attempt - symbol = PCG NYSE\n",
      "BEfORE TA HANDLER--- symbol = PCG NYSE 1d\n",
      "inside getAnalysis- ta handler succeeded\n",
      "symbol = PCG NYSE\n",
      "{'RECOMMENDATION': 'BUY', 'BUY': 14, 'SELL': 2, 'NEUTRAL': 10}\n",
      "16\n",
      "From Main Get Analysis 1st attempt - symbol = MS NYSE\n",
      "BEfORE TA HANDLER--- symbol = MS NYSE 1d\n",
      "inside getAnalysis- ta handler succeeded\n",
      "symbol = MS NYSE\n",
      "{'RECOMMENDATION': 'BUY', 'BUY': 13, 'SELL': 3, 'NEUTRAL': 10}\n",
      "17\n",
      "From Main Get Analysis 1st attempt - symbol = WELL NYSE\n",
      "BEfORE TA HANDLER--- symbol = WELL NYSE 1d\n",
      "inside getAnalysis- ta handler succeeded\n",
      "symbol = WELL NYSE\n",
      "{'RECOMMENDATION': 'STRONG_BUY', 'BUY': 16, 'SELL': 1, 'NEUTRAL': 9}\n",
      " from getAnalysis about to call getHistIndi first time\n",
      "18\n",
      "From Main Get Analysis 1st attempt - symbol = PGR NYSE\n",
      "BEfORE TA HANDLER--- symbol = PGR NYSE 1d\n",
      "inside getAnalysis- ta handler succeeded\n",
      "symbol = PGR NYSE\n",
      "{'RECOMMENDATION': 'SELL', 'BUY': 4, 'SELL': 12, 'NEUTRAL': 10}\n",
      "19\n",
      "From Main Get Analysis 1st attempt - symbol = OTIS NYSE\n",
      "BEfORE TA HANDLER--- symbol = OTIS NYSE 1d\n",
      "inside getAnalysis- ta handler succeeded\n",
      "symbol = OTIS NYSE\n",
      "{'RECOMMENDATION': 'BUY', 'BUY': 15, 'SELL': 2, 'NEUTRAL': 9}\n",
      "20\n",
      "From Main Get Analysis 1st attempt - symbol = APTV NYSE\n",
      "BEfORE TA HANDLER--- symbol = APTV NYSE 1d\n",
      "inside getAnalysis- ta handler succeeded\n",
      "symbol = APTV NYSE\n",
      "{'RECOMMENDATION': 'SELL', 'BUY': 5, 'SELL': 13, 'NEUTRAL': 8}\n",
      "21\n",
      "From Main Get Analysis 1st attempt - symbol = TECH NYSE\n",
      "BEfORE TA HANDLER--- symbol = TECH NYSE 1d\n",
      "inside getAnalysis- ta handler succeeded\n",
      "symbol = TECH NYSE\n",
      "From Main Get Analysis 2nd attempt - symbol = TECH NASDAQ\n",
      "BEfORE TA HANDLER--- symbol = TECH NASDAQ 1d\n",
      "inside getAnalysis- ta handler succeeded\n",
      "symbol = TECH NASDAQ\n",
      "{'RECOMMENDATION': 'BUY', 'BUY': 11, 'SELL': 6, 'NEUTRAL': 9}\n",
      "22\n",
      "From Main Get Analysis 1st attempt - symbol = VRTX NYSE\n",
      "BEfORE TA HANDLER--- symbol = VRTX NYSE 1d\n",
      "inside getAnalysis- ta handler succeeded\n",
      "symbol = VRTX NYSE\n",
      "From Main Get Analysis 2nd attempt - symbol = VRTX NASDAQ\n",
      "BEfORE TA HANDLER--- symbol = VRTX NASDAQ 1d\n",
      "inside getAnalysis- ta handler succeeded\n",
      "symbol = VRTX NASDAQ\n",
      "{'RECOMMENDATION': 'STRONG_BUY', 'BUY': 17, 'SELL': 1, 'NEUTRAL': 8}\n",
      " from getAnalysis about to call getHistIndi first time\n"
     ]
    },
    {
     "name": "stderr",
     "output_type": "stream",
     "text": [
      "ERROR:tvDatafeed.main:The read operation timed out\n",
      "ERROR:tvDatafeed.main:no data, please check the exchange and symbol\n"
     ]
    },
    {
     "name": "stdout",
     "output_type": "stream",
     "text": [
      " from getAnalysis about to call getHistIndi 2nd time\n",
      "23\n",
      "From Main Get Analysis 1st attempt - symbol = MCK NYSE\n",
      "BEfORE TA HANDLER--- symbol = MCK NYSE 1d\n",
      "inside getAnalysis- ta handler succeeded\n",
      "symbol = MCK NYSE\n",
      "{'RECOMMENDATION': 'BUY', 'BUY': 14, 'SELL': 2, 'NEUTRAL': 10}\n",
      "24\n",
      "From Main Get Analysis 1st attempt - symbol = CTRA NYSE\n",
      "BEfORE TA HANDLER--- symbol = CTRA NYSE 1d\n",
      "inside getAnalysis- ta handler succeeded\n",
      "symbol = CTRA NYSE\n",
      "{'RECOMMENDATION': 'BUY', 'BUY': 14, 'SELL': 3, 'NEUTRAL': 9}\n",
      "25\n",
      "From Main Get Analysis 1st attempt - symbol = CDAY NYSE\n",
      "BEfORE TA HANDLER--- symbol = CDAY NYSE 1d\n",
      "inside getAnalysis- ta handler succeeded\n",
      "symbol = CDAY NYSE\n",
      "{'RECOMMENDATION': 'SELL', 'BUY': 2, 'SELL': 15, 'NEUTRAL': 9}\n"
     ]
    }
   ],
   "source": [
    "spx_df = getAnalysisIndicators ( sav_set_spx, Interval.INTERVAL_1_DAY, TVInterval.in_1_hour, 1000, 8 )"
   ]
  },
  {
   "cell_type": "code",
   "execution_count": 95,
   "id": "dfb4614a-eb10-440c-bd82-4f7f728f5a74",
   "metadata": {},
   "outputs": [
    {
     "data": {
      "text/plain": [
       "25"
      ]
     },
     "execution_count": 95,
     "metadata": {},
     "output_type": "execute_result"
    }
   ],
   "source": [
    "len(spx_df)"
   ]
  },
  {
   "cell_type": "code",
   "execution_count": 96,
   "id": "25c90382-2ede-4300-88b7-ebfec4a2f251",
   "metadata": {},
   "outputs": [],
   "source": [
    "# # for ss in sav_set_spx:\n",
    "# #     print(ss)\n",
    "\n",
    "# # First try NYSE and then if not NASDAQ. Else if both in error print error and move on to next symbol\n",
    "# spx_dict_final = {}\n",
    "\n",
    "# #column_names = [\"Symbol\", \"RECOMMENDATION\", \"BUY\", \"SELL\", \"NEUTRAL\", \"screener\", \"exchange\", \"interval\" ]\n",
    "# column_names = [\"Symbol\", \"RECOMMENDATION\", \"BUY\", \"SELL\", \"NEUTRAL\", \"ClosePrice\", \"percInc30\", \"percInc10\", \"bbHigh\", \"bbLow\", \"screener\", \"exchange\", \"interval\", \"AdoscLast8\" ]\n",
    "\n",
    "# spx_df = pd.DataFrame(columns = column_names)\n",
    "\n",
    "# i = 0\n",
    "# for ss in sav_set_spx:\n",
    "#     i = i + 1\n",
    "#     print(i)\n",
    "#     exchange=\"NYSE\"\n",
    "#     #print(ss)\n",
    "#     output = TA_Handler(\n",
    "#     symbol=ss,\n",
    "#     screener=\"america\",\n",
    "#     #exchange=\"NASDAQ\",\n",
    "#     exchange=\"NYSE\",\n",
    "#     interval=Interval.INTERVAL_1_DAY)\n",
    "#     print(\"symbol = \"+ss + \" \" + exchange)\n",
    "#     try:\n",
    "#         analysis = output.get_analysis()\n",
    "#         bbLow = analysis.indicators['BB.lower']\n",
    "#         bbHigh = analysis.indicators['BB.upper']\n",
    "#         close = analysis.indicators['close']\n",
    "#         sma30 = analysis.indicators['SMA30']\n",
    "#         sma10 = analysis.indicators['SMA10']\n",
    "#         percInc30 = (close/sma30 * 100) - 100\n",
    "#         percInc10 = (close/sma10 * 100) - 100        \n",
    "#         print(output.get_analysis().summary)\n",
    "#         dict1 = output.get_analysis().summary\n",
    "\n",
    "#         # get last 8 ADOSC volume if strong buy or sell.\n",
    "#         if ( dict1['RECOMMENDATION'] == \"STRONG_BUY\" or dict1['RECOMMENDATION'] == \"STRONG_SELL\"):\n",
    "#             concat8adosc = \" \"\n",
    "#             try:\n",
    "#                 ticker_data = tv.get_hist(symbol= ss,exchange=\"NYSE\",interval=TVInterval.in_1_hour, n_bars=1000)\n",
    "#                 #print(ticker_data.head())\n",
    "#                 adoscTicker = talib.ADOSC(ticker_data['high'],ticker_data['low'],ticker_data['close'],ticker_data['volume'],3,10)\n",
    "\n",
    "#                 last8adosc = adoscTicker.tail(8)\n",
    "#                 concat8adosc = \" \"\n",
    "#                 for atCntr in last8adosc:\n",
    "#                     concat8adosc = concat8adosc + \" \" + str(round(atCntr,2)) \n",
    "#             except Exception as error_message:\n",
    "#                 ticker_data = tv.get_hist(symbol= ss,exchange=\"NASDAQ\",interval=TVInterval.in_1_hour, n_bars=1000)\n",
    "#                 #print(ticker_data.head())\n",
    "#                 adoscTicker = talib.ADOSC(ticker_data['high'],ticker_data['low'],ticker_data['close'],ticker_data['volume'],3,10)\n",
    "\n",
    "#                 last8adosc = adoscTicker.tail(8)\n",
    "#                 concat8adosc = \" \"\n",
    "#                 for atCntr in last8adosc:\n",
    "#                     concat8adosc = concat8adosc + \" \" + str(round(atCntr,2))\n",
    "                    \n",
    "#         spx_df = spx_df.append({'Symbol': ss, 'RECOMMENDATION' :dict1['RECOMMENDATION'], 'BUY': dict1['BUY'], \n",
    "#                                'SELL': dict1['SELL'], 'NEUTRAL': dict1['NEUTRAL'], \n",
    "#                                 'ClosePrice': close, 'percInc30': percInc30, 'percInc10': percInc10,'bbHigh': bbHigh, 'bbLow': bbLow,\n",
    "#                                 'screener' : \"america\",\n",
    "#                                'exchange' : \"NYSE\", 'interval': \"Interval.INTERVAL_1_DAY\", 'AdoscLast8': concat8adosc }, ignore_index=True)\n",
    "\n",
    "#     except Exception as error_message:\n",
    "#         exchange=\"NASDAQ\"\n",
    "#         print(\"2nd attempt - symbol = \"+ss + \" \" + exchange)\n",
    "#         output = TA_Handler(\n",
    "#         symbol=ss,\n",
    "#         screener=\"america\",\n",
    "#         exchange=\"NASDAQ\",\n",
    "#         #exchange=\"NYSE\",\n",
    "#         interval=Interval.INTERVAL_1_DAY)\n",
    "#         try:\n",
    "#             analysis = output.get_analysis()\n",
    "#             bbLow = analysis.indicators['BB.lower']\n",
    "#             bbHigh = analysis.indicators['BB.upper']\n",
    "#             close = analysis.indicators['close']\n",
    "#             sma30 = analysis.indicators['SMA30']\n",
    "#             sma10 = analysis.indicators['SMA10']\n",
    "#             percInc30 = (close/sma30 * 100) - 100\n",
    "#             percInc10 = (close/sma10 * 100) - 100            \n",
    "#             print(output.get_analysis().summary)\n",
    "#             dict1 = output.get_analysis().summary\n",
    "            \n",
    "#             # get last 8 ADOSC volume if strong buy or sell.\n",
    "#             concat8adosc = \" \"\n",
    "#             try: \n",
    "#                 if ( dict1['RECOMMENDATION'] == \"STRONG_BUY\" or dict1['RECOMMENDATION'] == \"STRONG_SELL\"):\n",
    "#                     ticker_data = tv.get_hist(symbol= ss,exchange=\"NYSE\",interval=TVInterval.in_1_hour, n_bars=1000)\n",
    "#                     adoscTicker = talib.ADOSC(ticker_data['high'],ticker_data['low'],ticker_data['close'],ticker_data['volume'],3,10)\n",
    "#                     #print(row['Symbol'], adoscTicker.tail(5))\n",
    "#                     last8adosc = adoscTicker.tail(8)\n",
    "#                     concat8adosc = \" \"\n",
    "#                     for atCntr in last8adosc:\n",
    "#                         concat8adosc = concat8adosc + \" \" + str(round(atCntr,2))\n",
    "#                     print(\" Symbol and ADOSC = \", symbol, )\n",
    "#             except Exception as error_message:\n",
    "#                 if ( dict1['RECOMMENDATION'] == \"STRONG_BUY\" or dict1['RECOMMENDATION'] == \"STRONG_SELL\"):\n",
    "#                     ticker_data = tv.get_hist(symbol= ss,exchange=\"NASDAQ\",interval=TVInterval.in_1_hour, n_bars=1000)\n",
    "#                     adoscTicker = talib.ADOSC(ticker_data['high'],ticker_data['low'],ticker_data['close'],ticker_data['volume'],3,10)\n",
    "#                     #print(row['Symbol'], adoscTicker.tail(5))\n",
    "#                     last8adosc = adoscTicker.tail(8)\n",
    "#                     concat8adosc = \" \"\n",
    "#                     for atCntr in last8adosc:\n",
    "#                         concat8adosc = concat8adosc + \" \" + str(round(atCntr,2))\n",
    "#                     print(\" Symbol and ADOSC = \", symbol, )            \n",
    "\n",
    "            \n",
    "#             spx_df = spx_df.append({'Symbol': ss, 'RECOMMENDATION' :dict1['RECOMMENDATION'], 'BUY': dict1['BUY'], \n",
    "#                                'SELL': dict1['SELL'], 'NEUTRAL': dict1['NEUTRAL'], \n",
    "#                                 'ClosePrice': close, 'percInc30': percInc30, 'percInc10': percInc10,'bbHigh': bbHigh, 'bbLow': bbLow,    \n",
    "#                                 'screener' : \"america\",\n",
    "#                                'exchange' : \"NASDAQ\", 'interval': \"Interval.INTERVAL_1_DAY\", 'AdoscLast8': concat8adosc }, ignore_index=True)\n",
    "#             # spx_dict['symbol'] = ss\n",
    "#             # spx_dict['screener'] = \"america\"\n",
    "#             # spx_dict['exchange'] = \"NYSE\"\n",
    "#             # spx_dict['interval'] = \"Interval.INTERVAL_1_DAY\"\n",
    "#         except Exception as error_message:\n",
    "#             print('ERROR', error_message)\n",
    "#             error = 1  \n",
    "#     if i == 25:\n",
    "#         break\n"
   ]
  },
  {
   "cell_type": "code",
   "execution_count": 97,
   "id": "579f5b68-5434-4a55-89ab-7af87511cc7c",
   "metadata": {},
   "outputs": [],
   "source": [
    "# df = pd.DataFrame(columns=['A'])\n",
    "# >>> for i in range(5):\n",
    "# ...     df = df.append({'A': i}, ignore_index=True)"
   ]
  },
  {
   "cell_type": "code",
   "execution_count": 98,
   "id": "2622ca3b-94f3-4ffc-93a5-13858acaded7",
   "metadata": {},
   "outputs": [
    {
     "data": {
      "text/html": [
       "<div>\n",
       "<style scoped>\n",
       "    .dataframe tbody tr th:only-of-type {\n",
       "        vertical-align: middle;\n",
       "    }\n",
       "\n",
       "    .dataframe tbody tr th {\n",
       "        vertical-align: top;\n",
       "    }\n",
       "\n",
       "    .dataframe thead th {\n",
       "        text-align: right;\n",
       "    }\n",
       "</style>\n",
       "<table border=\"1\" class=\"dataframe\">\n",
       "  <thead>\n",
       "    <tr style=\"text-align: right;\">\n",
       "      <th></th>\n",
       "      <th>Symbol</th>\n",
       "      <th>RECOMMENDATION</th>\n",
       "      <th>BUY</th>\n",
       "      <th>SELL</th>\n",
       "      <th>NEUTRAL</th>\n",
       "      <th>ClosePrice</th>\n",
       "      <th>percInc30</th>\n",
       "      <th>percInc10</th>\n",
       "      <th>bbHigh</th>\n",
       "      <th>bbLow</th>\n",
       "      <th>screener</th>\n",
       "      <th>exchange</th>\n",
       "      <th>interval</th>\n",
       "      <th>AdoscLastN</th>\n",
       "    </tr>\n",
       "  </thead>\n",
       "  <tbody>\n",
       "    <tr>\n",
       "      <th>20</th>\n",
       "      <td>TECH</td>\n",
       "      <td>BUY</td>\n",
       "      <td>11</td>\n",
       "      <td>6</td>\n",
       "      <td>9</td>\n",
       "      <td>79.88</td>\n",
       "      <td>3.361714</td>\n",
       "      <td>-2.450938</td>\n",
       "      <td>87.986854</td>\n",
       "      <td>71.344146</td>\n",
       "      <td>america</td>\n",
       "      <td>NASDAQ</td>\n",
       "      <td>1d</td>\n",
       "      <td></td>\n",
       "    </tr>\n",
       "    <tr>\n",
       "      <th>21</th>\n",
       "      <td>VRTX</td>\n",
       "      <td>STRONG_BUY</td>\n",
       "      <td>17</td>\n",
       "      <td>1</td>\n",
       "      <td>8</td>\n",
       "      <td>340.73</td>\n",
       "      <td>6.444972</td>\n",
       "      <td>2.947353</td>\n",
       "      <td>341.248399</td>\n",
       "      <td>312.799601</td>\n",
       "      <td>america</td>\n",
       "      <td>NASDAQ</td>\n",
       "      <td>1d</td>\n",
       "      <td>31172.57 34349.95 26391.71 24376.74 21371.94...</td>\n",
       "    </tr>\n",
       "    <tr>\n",
       "      <th>22</th>\n",
       "      <td>MCK</td>\n",
       "      <td>BUY</td>\n",
       "      <td>14</td>\n",
       "      <td>2</td>\n",
       "      <td>10</td>\n",
       "      <td>364.24</td>\n",
       "      <td>1.764715</td>\n",
       "      <td>0.877387</td>\n",
       "      <td>371.848900</td>\n",
       "      <td>354.412100</td>\n",
       "      <td>america</td>\n",
       "      <td>NYSE</td>\n",
       "      <td>1d</td>\n",
       "      <td></td>\n",
       "    </tr>\n",
       "    <tr>\n",
       "      <th>23</th>\n",
       "      <td>CTRA</td>\n",
       "      <td>BUY</td>\n",
       "      <td>14</td>\n",
       "      <td>3</td>\n",
       "      <td>9</td>\n",
       "      <td>25.60</td>\n",
       "      <td>3.016727</td>\n",
       "      <td>0.605203</td>\n",
       "      <td>26.189465</td>\n",
       "      <td>24.653535</td>\n",
       "      <td>america</td>\n",
       "      <td>NYSE</td>\n",
       "      <td>1d</td>\n",
       "      <td></td>\n",
       "    </tr>\n",
       "    <tr>\n",
       "      <th>24</th>\n",
       "      <td>CDAY</td>\n",
       "      <td>SELL</td>\n",
       "      <td>2</td>\n",
       "      <td>15</td>\n",
       "      <td>9</td>\n",
       "      <td>63.48</td>\n",
       "      <td>-6.969019</td>\n",
       "      <td>-3.664921</td>\n",
       "      <td>73.825064</td>\n",
       "      <td>61.738936</td>\n",
       "      <td>america</td>\n",
       "      <td>NYSE</td>\n",
       "      <td>1d</td>\n",
       "      <td></td>\n",
       "    </tr>\n",
       "  </tbody>\n",
       "</table>\n",
       "</div>"
      ],
      "text/plain": [
       "   Symbol RECOMMENDATION BUY SELL NEUTRAL  ClosePrice  percInc30  percInc10  \\\n",
       "20   TECH            BUY  11    6       9       79.88   3.361714  -2.450938   \n",
       "21   VRTX     STRONG_BUY  17    1       8      340.73   6.444972   2.947353   \n",
       "22    MCK            BUY  14    2      10      364.24   1.764715   0.877387   \n",
       "23   CTRA            BUY  14    3       9       25.60   3.016727   0.605203   \n",
       "24   CDAY           SELL   2   15       9       63.48  -6.969019  -3.664921   \n",
       "\n",
       "        bbHigh       bbLow screener exchange interval  \\\n",
       "20   87.986854   71.344146  america   NASDAQ       1d   \n",
       "21  341.248399  312.799601  america   NASDAQ       1d   \n",
       "22  371.848900  354.412100  america     NYSE       1d   \n",
       "23   26.189465   24.653535  america     NYSE       1d   \n",
       "24   73.825064   61.738936  america     NYSE       1d   \n",
       "\n",
       "                                           AdoscLastN  \n",
       "20                                                     \n",
       "21    31172.57 34349.95 26391.71 24376.74 21371.94...  \n",
       "22                                                     \n",
       "23                                                     \n",
       "24                                                     "
      ]
     },
     "execution_count": 98,
     "metadata": {},
     "output_type": "execute_result"
    }
   ],
   "source": [
    "spx_df.tail()"
   ]
  },
  {
   "cell_type": "code",
   "execution_count": 99,
   "id": "55860ea5-b0d4-45a5-ab67-24c01e5046cc",
   "metadata": {},
   "outputs": [
    {
     "data": {
      "text/plain": [
       "25"
      ]
     },
     "execution_count": 99,
     "metadata": {},
     "output_type": "execute_result"
    }
   ],
   "source": [
    "\n",
    "len(spx_df)\n",
    "\n",
    "# for ss in sav_set_nasdaq:\n",
    "#     print(ss)"
   ]
  },
  {
   "cell_type": "code",
   "execution_count": 100,
   "id": "7d04a7dd-da99-49bb-8dd6-d50e19f0f9ca",
   "metadata": {},
   "outputs": [],
   "source": [
    "spx_df_strongBuy = spx_df[spx_df['RECOMMENDATION'] == \"STRONG_BUY\"]"
   ]
  },
  {
   "cell_type": "code",
   "execution_count": 101,
   "id": "636b7e4b-8bb2-4697-aa65-966b260296ca",
   "metadata": {},
   "outputs": [
    {
     "data": {
      "text/plain": [
       "5"
      ]
     },
     "execution_count": 101,
     "metadata": {},
     "output_type": "execute_result"
    }
   ],
   "source": [
    "len(spx_df_strongBuy)"
   ]
  },
  {
   "cell_type": "code",
   "execution_count": 102,
   "id": "e2289284-8928-49b3-8079-8d639069c042",
   "metadata": {},
   "outputs": [],
   "source": [
    "spx_df_strongBuy = spx_df_strongBuy.sort_values(by='BUY', ascending=False)"
   ]
  },
  {
   "cell_type": "code",
   "execution_count": 103,
   "id": "f80a7dc7-a4b9-4a31-b204-0c58abbcd8d5",
   "metadata": {},
   "outputs": [
    {
     "name": "stdout",
     "output_type": "stream",
     "text": [
      "   Symbol RECOMMENDATION BUY SELL NEUTRAL  ClosePrice  percInc30  percInc10    bbHigh     bbLow screener exchange interval                                         AdoscLastN\n",
      "12    YUM     STRONG_BUY  18    1       7      140.58     5.7043     1.6684  141.6126  129.1724  america     NYSE       1d    10406.95 6439.49 4472.03 5931.75 12423.29 90...\n",
      "3      IR     STRONG_BUY  17    1       8       57.02     2.4808     2.5632   58.1260   53.4940  america     NYSE       1d    74647.64 83523.36 81804.3 71874.63 59526.02 ...\n",
      "21   VRTX     STRONG_BUY  17    1       8      340.73     6.4450     2.9474  341.2484  312.7996  america   NASDAQ       1d    31172.57 34349.95 26391.71 24376.74 21371.94...\n",
      "6     LVS     STRONG_BUY  16    0      10       63.85    10.3844     3.7048   64.6512   54.1178  america     NYSE       1d    30922.51 72737.59 98669.44 116148.19 126222....\n",
      "16   WELL     STRONG_BUY  16    1       9       79.22     9.3152     3.7522   79.1611   69.8229  america     NYSE       1d    26371.36 31856.0 30383.41 30071.71 26700.87 ...\n"
     ]
    }
   ],
   "source": [
    "## Print all the dataFrame\n",
    "with pd.option_context('display.max_rows', None,\n",
    "                       'display.max_columns', None,\n",
    "                       'display.precision', 4, 'expand_frame_repr', False\n",
    "                       ):\n",
    "    print(spx_df_strongBuy)"
   ]
  },
  {
   "cell_type": "code",
   "execution_count": 104,
   "id": "85788bba-7109-45b2-8832-f77d967e1249",
   "metadata": {},
   "outputs": [
    {
     "data": {
      "text/plain": [
       "'spxStrongBuyFile_2023-04-30.csv'"
      ]
     },
     "execution_count": 104,
     "metadata": {},
     "output_type": "execute_result"
    }
   ],
   "source": [
    "spxStrongBuyFile = f\"spxStrongBuyFile_{today}.csv\"\n",
    "spxStrongBuyFile"
   ]
  },
  {
   "cell_type": "code",
   "execution_count": 105,
   "id": "366aa0d5-98cf-4241-9afa-04bf84165710",
   "metadata": {},
   "outputs": [
    {
     "data": {
      "text/plain": [
       "'../RaspberryFiles/Files/spxStrongBuyFile_2023-04-30.csv'"
      ]
     },
     "execution_count": 105,
     "metadata": {},
     "output_type": "execute_result"
    }
   ],
   "source": [
    "################### Raspberry\n",
    "spxStrongBuyFile = f\"../RaspberryFiles/Files/spxStrongBuyFile_{today}.csv\"\n",
    "spxStrongBuyFile\n",
    "################### Raspberry"
   ]
  },
  {
   "cell_type": "code",
   "execution_count": 106,
   "id": "feede108-2c7a-486b-85a8-5c7d24262a1e",
   "metadata": {},
   "outputs": [],
   "source": [
    "spx_df_strongBuy.to_csv(spxStrongBuyFile, index=False)"
   ]
  },
  {
   "cell_type": "code",
   "execution_count": 107,
   "id": "5e6a69df-342b-4469-8ba5-ba21fdb3b2ea",
   "metadata": {},
   "outputs": [],
   "source": [
    "spx_df_strongSell = spx_df[spx_df['RECOMMENDATION'] == \"STRONG_SELL\"]"
   ]
  },
  {
   "cell_type": "code",
   "execution_count": 108,
   "id": "1d32177c-6108-4330-b078-246c8c51c72b",
   "metadata": {},
   "outputs": [
    {
     "data": {
      "text/plain": [
       "0"
      ]
     },
     "execution_count": 108,
     "metadata": {},
     "output_type": "execute_result"
    }
   ],
   "source": [
    "len(spx_df_strongSell)"
   ]
  },
  {
   "cell_type": "code",
   "execution_count": 109,
   "id": "3f6fdda1-4bf2-44a9-af46-a3e4ca83240c",
   "metadata": {},
   "outputs": [],
   "source": [
    "spx_df_strongSell = spx_df_strongSell.sort_values(by='SELL', ascending=False)"
   ]
  },
  {
   "cell_type": "code",
   "execution_count": 110,
   "id": "f0779368-0073-4ee5-a177-71cb4baed826",
   "metadata": {},
   "outputs": [
    {
     "data": {
      "text/plain": [
       "'spxStrongSellFile_2023-04-30.csv'"
      ]
     },
     "execution_count": 110,
     "metadata": {},
     "output_type": "execute_result"
    }
   ],
   "source": [
    "spxStrongSellFile = f\"spxStrongSellFile_{today}.csv\"\n",
    "spxStrongSellFile"
   ]
  },
  {
   "cell_type": "code",
   "execution_count": 111,
   "id": "ef3381f7-3390-4bd4-a302-c2a6f71c3f00",
   "metadata": {},
   "outputs": [
    {
     "data": {
      "text/plain": [
       "'../RaspberryFiles/Files/spxStrongSellFile_2023-04-30.csv'"
      ]
     },
     "execution_count": 111,
     "metadata": {},
     "output_type": "execute_result"
    }
   ],
   "source": [
    "################### Raspberry\n",
    "spxStrongSellFile = f\"../RaspberryFiles/Files/spxStrongSellFile_{today}.csv\"\n",
    "spxStrongSellFile\n",
    "################### Raspberry"
   ]
  },
  {
   "cell_type": "code",
   "execution_count": 112,
   "id": "f8cfd64b-1c36-4e9a-af5f-3a49b776985f",
   "metadata": {},
   "outputs": [],
   "source": [
    "spx_df_strongSell.to_csv(spxStrongSellFile, index=False)"
   ]
  },
  {
   "cell_type": "code",
   "execution_count": 113,
   "id": "194a3064-8d9f-4108-98bb-404903da485c",
   "metadata": {},
   "outputs": [
    {
     "name": "stdout",
     "output_type": "stream",
     "text": [
      "Empty DataFrame\n",
      "Columns: [Symbol, RECOMMENDATION, BUY, SELL, NEUTRAL, ClosePrice, percInc30, percInc10, bbHigh, bbLow, screener, exchange, interval, AdoscLastN]\n",
      "Index: []\n"
     ]
    }
   ],
   "source": [
    "## Print all the dataFrame\n",
    "with pd.option_context('display.max_rows', None,\n",
    "                       'display.max_columns', None,\n",
    "                       'display.precision', 4, 'expand_frame_repr', False\n",
    "                       ):\n",
    "    print(spx_df_strongSell)"
   ]
  },
  {
   "cell_type": "code",
   "execution_count": 114,
   "id": "989f07e8-bd6f-4ab0-8353-54f139a532f8",
   "metadata": {},
   "outputs": [
    {
     "name": "stdout",
     "output_type": "stream",
     "text": [
      "  Symbol RECOMMENDATION BUY SELL NEUTRAL  ClosePrice  percInc30  percInc10    bbHigh     bbLow screener exchange interval                                         AdoscLastN\n",
      "0    TPR           SELL   4   12      10       40.81    -1.4013    -1.6152   43.4028   39.6602  america     NYSE       1d                                                   \n",
      "1    UNH        NEUTRAL   9    9       8      492.09     0.2205     0.1469  528.9223  470.1887  america     NYSE       1d                                                   \n",
      "2     ON           SELL   5   12       9       71.96    -6.6663    -2.9090   82.6135   69.5745  america   NASDAQ       1d                                                   \n",
      "3     IR     STRONG_BUY  17    1       8       57.02     2.4808     2.5632   58.1260   53.4940  america     NYSE       1d    74647.64 83523.36 81804.3 71874.63 59526.02 ...\n",
      "4    XYL            BUY  15    2       9      103.84     2.0634     0.1340  106.2156  100.2514  america     NYSE       1d                                                   \n"
     ]
    }
   ],
   "source": [
    "## Print all the dataFrame\n",
    "with pd.option_context('display.max_rows', None,\n",
    "                       'display.max_columns', None,\n",
    "                       'display.precision', 4, 'expand_frame_repr', False\n",
    "                       ):\n",
    "    print(spx_df.head())"
   ]
  },
  {
   "cell_type": "code",
   "execution_count": 115,
   "id": "9624c8d0-9e26-41df-b5e9-2a46c32cc2d8",
   "metadata": {},
   "outputs": [
    {
     "data": {
      "text/plain": [
       "'spx_df_2023-04-30.csv'"
      ]
     },
     "execution_count": 115,
     "metadata": {},
     "output_type": "execute_result"
    }
   ],
   "source": [
    "spxFile = f\"spx_df_{today}.csv\"\n",
    "spxFile"
   ]
  },
  {
   "cell_type": "code",
   "execution_count": 116,
   "id": "f7be27f9-6e12-4591-b5e6-502046acc04c",
   "metadata": {},
   "outputs": [
    {
     "data": {
      "text/plain": [
       "'../RaspberryFiles/Files/spx_df_2023-04-30.csv'"
      ]
     },
     "execution_count": 116,
     "metadata": {},
     "output_type": "execute_result"
    }
   ],
   "source": [
    "#################### Raspberry\n",
    "spxFile = f\"../RaspberryFiles/Files/spx_df_{today}.csv\"\n",
    "spxFile\n",
    "#################### Raspberry"
   ]
  },
  {
   "cell_type": "code",
   "execution_count": 117,
   "id": "dd63a44d-0377-4a75-b577-32a6d02b1448",
   "metadata": {},
   "outputs": [],
   "source": [
    "spx_df.to_csv(spxFile, index=False)"
   ]
  },
  {
   "cell_type": "markdown",
   "id": "8c389e12-3e3b-4bce-8fe5-0782d77ca7a6",
   "metadata": {},
   "source": [
    "### NASDAQ "
   ]
  },
  {
   "cell_type": "code",
   "execution_count": 137,
   "id": "3003a7f7-51da-4f5c-96ee-b7b1b4429d5c",
   "metadata": {},
   "outputs": [
    {
     "name": "stdout",
     "output_type": "stream",
     "text": [
      "1\n",
      "From Main Get Analysis 1st attempt - symbol = LSAK NYSE\n",
      "BEfORE TA HANDLER--- symbol = LSAK NYSE 1h\n",
      "inside getAnalysis- ta handler succeeded\n",
      "symbol = LSAK NYSE\n",
      "From Main Get Analysis 2nd attempt - symbol = LSAK NASDAQ\n",
      "BEfORE TA HANDLER--- symbol = LSAK NASDAQ 1h\n",
      "inside getAnalysis- ta handler succeeded\n",
      "symbol = LSAK NASDAQ\n",
      "{'RECOMMENDATION': 'SELL', 'BUY': 3, 'SELL': 13, 'NEUTRAL': 10}\n",
      "2\n",
      "From Main Get Analysis 1st attempt - symbol = GNTX NYSE\n",
      "BEfORE TA HANDLER--- symbol = GNTX NYSE 1h\n",
      "inside getAnalysis- ta handler succeeded\n",
      "symbol = GNTX NYSE\n",
      "From Main Get Analysis 2nd attempt - symbol = GNTX NASDAQ\n",
      "BEfORE TA HANDLER--- symbol = GNTX NASDAQ 1h\n",
      "inside getAnalysis- ta handler succeeded\n",
      "symbol = GNTX NASDAQ\n",
      "{'RECOMMENDATION': 'BUY', 'BUY': 15, 'SELL': 2, 'NEUTRAL': 9}\n",
      "3\n",
      "From Main Get Analysis 1st attempt - symbol = AOGOU NYSE\n",
      "BEfORE TA HANDLER--- symbol = AOGOU NYSE 1h\n",
      "inside getAnalysis- ta handler succeeded\n",
      "symbol = AOGOU NYSE\n",
      "From Main Get Analysis 2nd attempt - symbol = AOGOU NASDAQ\n",
      "BEfORE TA HANDLER--- symbol = AOGOU NASDAQ 1h\n",
      "inside getAnalysis- ta handler succeeded\n",
      "symbol = AOGOU NASDAQ\n",
      "{'RECOMMENDATION': 'STRONG_BUY', 'BUY': 16, 'SELL': 0, 'NEUTRAL': 10}\n",
      " from getAnalysis about to call getHistIndi first time\n"
     ]
    },
    {
     "name": "stderr",
     "output_type": "stream",
     "text": [
      "ERROR:tvDatafeed.main:The read operation timed out\n",
      "ERROR:tvDatafeed.main:no data, please check the exchange and symbol\n"
     ]
    },
    {
     "name": "stdout",
     "output_type": "stream",
     "text": [
      " from getAnalysis about to call getHistIndi 2nd time\n",
      "4\n",
      "From Main Get Analysis 1st attempt - symbol = SGRY NYSE\n",
      "BEfORE TA HANDLER--- symbol = SGRY NYSE 1h\n",
      "inside getAnalysis- ta handler succeeded\n",
      "symbol = SGRY NYSE\n",
      "From Main Get Analysis 2nd attempt - symbol = SGRY NASDAQ\n",
      "BEfORE TA HANDLER--- symbol = SGRY NASDAQ 1h\n",
      "inside getAnalysis- ta handler succeeded\n",
      "symbol = SGRY NASDAQ\n",
      "{'RECOMMENDATION': 'BUY', 'BUY': 15, 'SELL': 1, 'NEUTRAL': 10}\n",
      "5\n",
      "From Main Get Analysis 1st attempt - symbol = ANGH NYSE\n",
      "BEfORE TA HANDLER--- symbol = ANGH NYSE 1h\n",
      "inside getAnalysis- ta handler succeeded\n",
      "symbol = ANGH NYSE\n",
      "From Main Get Analysis 2nd attempt - symbol = ANGH NASDAQ\n",
      "BEfORE TA HANDLER--- symbol = ANGH NASDAQ 1h\n",
      "inside getAnalysis- ta handler succeeded\n",
      "symbol = ANGH NASDAQ\n",
      "{'RECOMMENDATION': 'STRONG_SELL', 'BUY': 0, 'SELL': 17, 'NEUTRAL': 9}\n",
      " from getAnalysis about to call getHistIndi first time\n"
     ]
    },
    {
     "name": "stderr",
     "output_type": "stream",
     "text": [
      "ERROR:tvDatafeed.main:The read operation timed out\n",
      "ERROR:tvDatafeed.main:no data, please check the exchange and symbol\n"
     ]
    },
    {
     "name": "stdout",
     "output_type": "stream",
     "text": [
      " from getAnalysis about to call getHistIndi 2nd time\n",
      "6\n",
      "From Main Get Analysis 1st attempt - symbol = KFRC NYSE\n",
      "BEfORE TA HANDLER--- symbol = KFRC NYSE 1h\n",
      "inside getAnalysis- ta handler succeeded\n",
      "symbol = KFRC NYSE\n",
      "From Main Get Analysis 2nd attempt - symbol = KFRC NASDAQ\n",
      "BEfORE TA HANDLER--- symbol = KFRC NASDAQ 1h\n",
      "inside getAnalysis- ta handler succeeded\n",
      "symbol = KFRC NASDAQ\n",
      "{'RECOMMENDATION': 'SELL', 'BUY': 5, 'SELL': 12, 'NEUTRAL': 9}\n",
      "7\n",
      "From Main Get Analysis 1st attempt - symbol = IESC NYSE\n",
      "BEfORE TA HANDLER--- symbol = IESC NYSE 1h\n",
      "inside getAnalysis- ta handler succeeded\n",
      "symbol = IESC NYSE\n",
      "From Main Get Analysis 2nd attempt - symbol = IESC NASDAQ\n",
      "BEfORE TA HANDLER--- symbol = IESC NASDAQ 1h\n",
      "inside getAnalysis- ta handler succeeded\n",
      "symbol = IESC NASDAQ\n",
      "{'RECOMMENDATION': 'BUY', 'BUY': 12, 'SELL': 4, 'NEUTRAL': 10}\n",
      "8\n",
      "From Main Get Analysis 1st attempt - symbol = TRON NYSE\n",
      "BEfORE TA HANDLER--- symbol = TRON NYSE 1h\n",
      "inside getAnalysis- ta handler succeeded\n",
      "symbol = TRON NYSE\n",
      "From Main Get Analysis 2nd attempt - symbol = TRON NASDAQ\n",
      "BEfORE TA HANDLER--- symbol = TRON NASDAQ 1h\n",
      "inside getAnalysis- ta handler succeeded\n",
      "symbol = TRON NASDAQ\n",
      "{'RECOMMENDATION': 'BUY', 'BUY': 15, 'SELL': 1, 'NEUTRAL': 10}\n",
      "9\n",
      "From Main Get Analysis 1st attempt - symbol = CRKN NYSE\n",
      "BEfORE TA HANDLER--- symbol = CRKN NYSE 1h\n",
      "inside getAnalysis- ta handler succeeded\n",
      "symbol = CRKN NYSE\n",
      "From Main Get Analysis 2nd attempt - symbol = CRKN NASDAQ\n",
      "BEfORE TA HANDLER--- symbol = CRKN NASDAQ 1h\n",
      "inside getAnalysis- ta handler succeeded\n",
      "symbol = CRKN NASDAQ\n",
      "{'RECOMMENDATION': 'NEUTRAL', 'BUY': 9, 'SELL': 7, 'NEUTRAL': 10}\n",
      "10\n",
      "From Main Get Analysis 1st attempt - symbol = RNRG NYSE\n",
      "BEfORE TA HANDLER--- symbol = RNRG NYSE 1h\n",
      "inside getAnalysis- ta handler succeeded\n",
      "symbol = RNRG NYSE\n",
      "From Main Get Analysis 2nd attempt - symbol = RNRG NASDAQ\n",
      "BEfORE TA HANDLER--- symbol = RNRG NASDAQ 1h\n",
      "inside getAnalysis- ta handler succeeded\n",
      "symbol = RNRG NASDAQ\n",
      "{'RECOMMENDATION': 'SELL', 'BUY': 5, 'SELL': 11, 'NEUTRAL': 10}\n",
      "11\n",
      "From Main Get Analysis 1st attempt - symbol = ZING NYSE\n",
      "BEfORE TA HANDLER--- symbol = ZING NYSE 1h\n",
      "inside getAnalysis- ta handler succeeded\n",
      "symbol = ZING NYSE\n",
      "From Main Get Analysis 2nd attempt - symbol = ZING NASDAQ\n",
      "BEfORE TA HANDLER--- symbol = ZING NASDAQ 1h\n",
      "inside getAnalysis- ta handler succeeded\n",
      "symbol = ZING NASDAQ\n",
      "{'RECOMMENDATION': 'BUY', 'BUY': 15, 'SELL': 1, 'NEUTRAL': 10}\n",
      "12\n",
      "From Main Get Analysis 1st attempt - symbol = SZZL NYSE\n",
      "BEfORE TA HANDLER--- symbol = SZZL NYSE 1h\n",
      "inside getAnalysis- ta handler succeeded\n",
      "symbol = SZZL NYSE\n",
      "From Main Get Analysis 2nd attempt - symbol = SZZL NASDAQ\n",
      "BEfORE TA HANDLER--- symbol = SZZL NASDAQ 1h\n",
      "inside getAnalysis- ta handler succeeded\n",
      "symbol = SZZL NASDAQ\n",
      "{'RECOMMENDATION': 'STRONG_BUY', 'BUY': 16, 'SELL': 1, 'NEUTRAL': 9}\n",
      " from getAnalysis about to call getHistIndi first time\n"
     ]
    },
    {
     "name": "stderr",
     "output_type": "stream",
     "text": [
      "ERROR:tvDatafeed.main:The read operation timed out\n",
      "ERROR:tvDatafeed.main:no data, please check the exchange and symbol\n"
     ]
    },
    {
     "name": "stdout",
     "output_type": "stream",
     "text": [
      " from getAnalysis about to call getHistIndi 2nd time\n",
      "13\n",
      "From Main Get Analysis 1st attempt - symbol = VERA NYSE\n",
      "BEfORE TA HANDLER--- symbol = VERA NYSE 1h\n",
      "inside getAnalysis- ta handler succeeded\n",
      "symbol = VERA NYSE\n",
      "From Main Get Analysis 2nd attempt - symbol = VERA NASDAQ\n",
      "BEfORE TA HANDLER--- symbol = VERA NASDAQ 1h\n",
      "inside getAnalysis- ta handler succeeded\n",
      "symbol = VERA NASDAQ\n",
      "{'RECOMMENDATION': 'BUY', 'BUY': 13, 'SELL': 5, 'NEUTRAL': 8}\n",
      "14\n",
      "From Main Get Analysis 1st attempt - symbol = FREE NYSE\n",
      "BEfORE TA HANDLER--- symbol = FREE NYSE 1h\n",
      "inside getAnalysis- ta handler succeeded\n",
      "symbol = FREE NYSE\n",
      "From Main Get Analysis 2nd attempt - symbol = FREE NASDAQ\n",
      "BEfORE TA HANDLER--- symbol = FREE NASDAQ 1h\n",
      "inside getAnalysis- ta handler succeeded\n",
      "symbol = FREE NASDAQ\n",
      "{'RECOMMENDATION': 'BUY', 'BUY': 14, 'SELL': 2, 'NEUTRAL': 10}\n",
      "15\n",
      "From Main Get Analysis 1st attempt - symbol = PEGRU NYSE\n",
      "BEfORE TA HANDLER--- symbol = PEGRU NYSE 1h\n",
      "inside getAnalysis- ta handler succeeded\n",
      "symbol = PEGRU NYSE\n",
      "From Main Get Analysis 2nd attempt - symbol = PEGRU NASDAQ\n",
      "BEfORE TA HANDLER--- symbol = PEGRU NASDAQ 1h\n",
      "inside getAnalysis- ta handler succeeded\n",
      "symbol = PEGRU NASDAQ\n",
      "{'RECOMMENDATION': 'BUY', 'BUY': 15, 'SELL': 1, 'NEUTRAL': 10}\n",
      "16\n",
      "From Main Get Analysis 1st attempt - symbol = BOSC NYSE\n",
      "BEfORE TA HANDLER--- symbol = BOSC NYSE 1h\n",
      "inside getAnalysis- ta handler succeeded\n",
      "symbol = BOSC NYSE\n",
      "From Main Get Analysis 2nd attempt - symbol = BOSC NASDAQ\n",
      "BEfORE TA HANDLER--- symbol = BOSC NASDAQ 1h\n",
      "inside getAnalysis- ta handler succeeded\n",
      "symbol = BOSC NASDAQ\n",
      "{'RECOMMENDATION': 'BUY', 'BUY': 12, 'SELL': 4, 'NEUTRAL': 10}\n",
      "17\n",
      "From Main Get Analysis 1st attempt - symbol = IMTE NYSE\n",
      "BEfORE TA HANDLER--- symbol = IMTE NYSE 1h\n",
      "inside getAnalysis- ta handler succeeded\n",
      "symbol = IMTE NYSE\n",
      "From Main Get Analysis 2nd attempt - symbol = IMTE NASDAQ\n",
      "BEfORE TA HANDLER--- symbol = IMTE NASDAQ 1h\n",
      "inside getAnalysis- ta handler succeeded\n",
      "symbol = IMTE NASDAQ\n",
      "{'RECOMMENDATION': 'BUY', 'BUY': 13, 'SELL': 4, 'NEUTRAL': 9}\n",
      "18\n",
      "From Main Get Analysis 1st attempt - symbol = IUS NYSE\n",
      "BEfORE TA HANDLER--- symbol = IUS NYSE 1h\n",
      "inside getAnalysis- ta handler succeeded\n",
      "symbol = IUS NYSE\n",
      "From Main Get Analysis 2nd attempt - symbol = IUS NASDAQ\n",
      "BEfORE TA HANDLER--- symbol = IUS NASDAQ 1h\n",
      "inside getAnalysis- ta handler succeeded\n",
      "symbol = IUS NASDAQ\n",
      "{'RECOMMENDATION': 'STRONG_BUY', 'BUY': 17, 'SELL': 0, 'NEUTRAL': 9}\n",
      " from getAnalysis about to call getHistIndi first time\n"
     ]
    },
    {
     "name": "stderr",
     "output_type": "stream",
     "text": [
      "ERROR:tvDatafeed.main:The read operation timed out\n",
      "ERROR:tvDatafeed.main:no data, please check the exchange and symbol\n"
     ]
    },
    {
     "name": "stdout",
     "output_type": "stream",
     "text": [
      " from getAnalysis about to call getHistIndi 2nd time\n",
      "19\n",
      "From Main Get Analysis 1st attempt - symbol = RPAY NYSE\n",
      "BEfORE TA HANDLER--- symbol = RPAY NYSE 1h\n",
      "inside getAnalysis- ta handler succeeded\n",
      "symbol = RPAY NYSE\n",
      "From Main Get Analysis 2nd attempt - symbol = RPAY NASDAQ\n",
      "BEfORE TA HANDLER--- symbol = RPAY NASDAQ 1h\n",
      "inside getAnalysis- ta handler succeeded\n",
      "symbol = RPAY NASDAQ\n",
      "{'RECOMMENDATION': 'BUY', 'BUY': 9, 'SELL': 8, 'NEUTRAL': 9}\n",
      "20\n",
      "From Main Get Analysis 1st attempt - symbol = LPCN NYSE\n",
      "BEfORE TA HANDLER--- symbol = LPCN NYSE 1h\n",
      "inside getAnalysis- ta handler succeeded\n",
      "symbol = LPCN NYSE\n",
      "From Main Get Analysis 2nd attempt - symbol = LPCN NASDAQ\n",
      "BEfORE TA HANDLER--- symbol = LPCN NASDAQ 1h\n",
      "inside getAnalysis- ta handler succeeded\n",
      "symbol = LPCN NASDAQ\n",
      "{'RECOMMENDATION': 'SELL', 'BUY': 1, 'SELL': 15, 'NEUTRAL': 10}\n",
      "21\n",
      "From Main Get Analysis 1st attempt - symbol = CBIO NYSE\n",
      "BEfORE TA HANDLER--- symbol = CBIO NYSE 1h\n",
      "inside getAnalysis- ta handler succeeded\n",
      "symbol = CBIO NYSE\n",
      "From Main Get Analysis 2nd attempt - symbol = CBIO NASDAQ\n",
      "BEfORE TA HANDLER--- symbol = CBIO NASDAQ 1h\n",
      "inside getAnalysis- ta handler succeeded\n",
      "symbol = CBIO NASDAQ\n",
      "{'RECOMMENDATION': 'SELL', 'BUY': 3, 'SELL': 16, 'NEUTRAL': 7}\n",
      "22\n",
      "From Main Get Analysis 1st attempt - symbol = MITAU NYSE\n",
      "BEfORE TA HANDLER--- symbol = MITAU NYSE 1h\n",
      "inside getAnalysis- ta handler succeeded\n",
      "symbol = MITAU NYSE\n",
      "From Main Get Analysis 2nd attempt - symbol = MITAU NASDAQ\n",
      "BEfORE TA HANDLER--- symbol = MITAU NASDAQ 1h\n",
      "inside getAnalysis- ta handler succeeded\n",
      "symbol = MITAU NASDAQ\n",
      "{'RECOMMENDATION': 'BUY', 'BUY': 14, 'SELL': 3, 'NEUTRAL': 9}\n",
      "23\n",
      "From Main Get Analysis 1st attempt - symbol = BJDX NYSE\n",
      "BEfORE TA HANDLER--- symbol = BJDX NYSE 1h\n",
      "inside getAnalysis- ta handler succeeded\n",
      "symbol = BJDX NYSE\n",
      "From Main Get Analysis 2nd attempt - symbol = BJDX NASDAQ\n",
      "BEfORE TA HANDLER--- symbol = BJDX NASDAQ 1h\n",
      "inside getAnalysis- ta handler succeeded\n",
      "symbol = BJDX NASDAQ\n",
      "{'RECOMMENDATION': 'SELL', 'BUY': 2, 'SELL': 14, 'NEUTRAL': 10}\n",
      "24\n",
      "From Main Get Analysis 1st attempt - symbol = APOG NYSE\n",
      "BEfORE TA HANDLER--- symbol = APOG NYSE 1h\n",
      "inside getAnalysis- ta handler succeeded\n",
      "symbol = APOG NYSE\n",
      "From Main Get Analysis 2nd attempt - symbol = APOG NASDAQ\n",
      "BEfORE TA HANDLER--- symbol = APOG NASDAQ 1h\n",
      "inside getAnalysis- ta handler succeeded\n",
      "symbol = APOG NASDAQ\n",
      "{'RECOMMENDATION': 'BUY', 'BUY': 12, 'SELL': 5, 'NEUTRAL': 9}\n",
      "25\n",
      "From Main Get Analysis 1st attempt - symbol = IRAA NYSE\n",
      "BEfORE TA HANDLER--- symbol = IRAA NYSE 1h\n",
      "inside getAnalysis- ta handler succeeded\n",
      "symbol = IRAA NYSE\n",
      "From Main Get Analysis 2nd attempt - symbol = IRAA NASDAQ\n",
      "BEfORE TA HANDLER--- symbol = IRAA NASDAQ 1h\n",
      "inside getAnalysis- ta handler succeeded\n",
      "symbol = IRAA NASDAQ\n",
      "{'RECOMMENDATION': 'BUY', 'BUY': 13, 'SELL': 4, 'NEUTRAL': 9}\n"
     ]
    }
   ],
   "source": [
    "#nasdaq_df = getAnalysisIndicators ( sav_set_nasdaq, Interval.INTERVAL_1_DAY, TVInterval.in_1_hour, 1000, 8 )\n",
    "#\n",
    "nasdaq_df = getAnalysisIndicators ( sav_set_nasdaq, Interval.INTERVAL_1_HOUR, TVInterval.in_1_hour, 1000, 8 )\n",
    "\n"
   ]
  },
  {
   "cell_type": "code",
   "execution_count": 138,
   "id": "243a735d-a3ba-48c4-9f0b-fbc36c859ea2",
   "metadata": {},
   "outputs": [],
   "source": [
    "# # for ss in sav_set_spx:\n",
    "# #     print(ss)\n",
    "\n",
    "\n",
    "\n",
    "# #column_names = [\"Symbol\", \"RECOMMENDATION\", \"BUY\", \"SELL\", \"NEUTRAL\", \"screener\", \"exchange\", \"interval\" ]\n",
    "# column_names = [\"Symbol\", \"RECOMMENDATION\", \"BUY\", \"SELL\", \"NEUTRAL\", \"ClosePrice\", \"percInc30\", \"percInc10\", \"bbHigh\", \"bbLow\", \"screener\", \"exchange\", \"interval\",\"AdoscLast8\" ]\n",
    "\n",
    "# nasdaq_df = pd.DataFrame(columns = column_names)\n",
    "\n",
    "# i = 0\n",
    "# for ss in sav_set_nasdaq:\n",
    "#     i = i + 1\n",
    "#     print(i)\n",
    "#     #print(ss)\n",
    "#     output = TA_Handler(\n",
    "#     symbol=ss,\n",
    "#     screener=\"america\",\n",
    "#     #exchange=\"NASDAQ\",\n",
    "#     exchange=\"NYSE\",\n",
    "#     interval=Interval.INTERVAL_1_DAY)\n",
    "#     print(\"symbol = \"+ss)\n",
    "#     try:\n",
    "#         analysis = output.get_analysis()\n",
    "#         bbLow = analysis.indicators['BB.lower']\n",
    "#         bbHigh = analysis.indicators['BB.upper']\n",
    "#         close = analysis.indicators['close']\n",
    "#         sma30 = analysis.indicators['SMA30']\n",
    "#         sma10 = analysis.indicators['SMA10']\n",
    "#         percInc30 = (close/sma30 * 100) - 100\n",
    "#         percInc10 = (close/sma10 * 100) - 100         \n",
    "#         print(output.get_analysis().summary)\n",
    "#         dict1 = output.get_analysis().summary\n",
    "#         nasdaq_df = nasdaq_df.append({'Symbol': ss, 'RECOMMENDATION' :dict1['RECOMMENDATION'], 'BUY': dict1['BUY'], \n",
    "#                                'SELL': dict1['SELL'], 'NEUTRAL': dict1['NEUTRAL'], \n",
    "#                                       'ClosePrice': close, 'percInc30': percInc30, 'percInc10': percInc10,'bbHigh': bbHigh, 'bbLow': bbLow,\n",
    "#                                       'screener' : \"america\",\n",
    "#                                'exchange' : \"NYSE\", 'interval': \"Interval.INTERVAL_1_DAY\"}, ignore_index=True)\n",
    "\n",
    "#     except Exception as error_message:\n",
    "#         output = TA_Handler(\n",
    "#         symbol=ss,\n",
    "#         screener=\"america\",\n",
    "#         exchange=\"NASDAQ\",\n",
    "#         #exchange=\"NYSE\",\n",
    "#         interval=Interval.INTERVAL_1_DAY)\n",
    "#         try:\n",
    "#             analysis = output.get_analysis()\n",
    "#             bbLow = analysis.indicators['BB.lower']\n",
    "#             bbHigh = analysis.indicators['BB.upper']\n",
    "#             close = analysis.indicators['close']\n",
    "#             sma30 = analysis.indicators['SMA30']\n",
    "#             sma10 = analysis.indicators['SMA10']\n",
    "#             percInc30 = (close/sma30 * 100) - 100\n",
    "#             percInc10 = (close/sma10 * 100) - 100             \n",
    "#             print(output.get_analysis().summary)\n",
    "#             dict1 = output.get_analysis().summary\n",
    "#             nasdaq_df = nasdaq_df.append({'Symbol': ss, 'RECOMMENDATION' :dict1['RECOMMENDATION'], 'BUY': dict1['BUY'], \n",
    "#                                'SELL': dict1['SELL'], 'NEUTRAL': dict1['NEUTRAL'], \n",
    "#                                'ClosePrice': close, 'percInc30': percInc30, 'percInc10': percInc10,'bbHigh': bbHigh, 'bbLow': bbLow,           \n",
    "#                                           'screener' : \"america\",\n",
    "#                                'exchange' : \"NASDAQ\", 'interval': \"Interval.INTERVAL_1_DAY\"}, ignore_index=True)\n",
    "#             # spx_dict['symbol'] = ss\n",
    "#             # spx_dict['screener'] = \"america\"\n",
    "#             # spx_dict['exchange'] = \"NYSE\"\n",
    "#             # spx_dict['interval'] = \"Interval.INTERVAL_1_DAY\"\n",
    "#         except Exception as error_message:\n",
    "#             print('ERROR', error_message)\n",
    "#             error = 1  \n",
    "#     if i == 15:\n",
    "#         break"
   ]
  },
  {
   "cell_type": "code",
   "execution_count": 139,
   "id": "b5188d8c-6e37-4d06-b6f8-098dd196efa3",
   "metadata": {},
   "outputs": [
    {
     "data": {
      "text/plain": [
       "25"
      ]
     },
     "execution_count": 139,
     "metadata": {},
     "output_type": "execute_result"
    }
   ],
   "source": [
    "len(nasdaq_df)"
   ]
  },
  {
   "cell_type": "code",
   "execution_count": 140,
   "id": "2c396c29-f010-47e1-9302-363615192a9a",
   "metadata": {},
   "outputs": [],
   "source": [
    "nasdaq_df_strongBuy = nasdaq_df[nasdaq_df['RECOMMENDATION'] == \"STRONG_BUY\"]"
   ]
  },
  {
   "cell_type": "code",
   "execution_count": 141,
   "id": "2a1b07c5-1abe-4342-81f7-bc12504cbbb9",
   "metadata": {},
   "outputs": [],
   "source": [
    "nasdaq_df_strongBuy = nasdaq_df_strongBuy.sort_values(by=(['percInc10', 'percInc30', 'BUY']), ascending=[False, False, False])"
   ]
  },
  {
   "cell_type": "code",
   "execution_count": 142,
   "id": "dff30569-671e-4070-8dc6-9fb626a551ce",
   "metadata": {},
   "outputs": [
    {
     "data": {
      "text/plain": [
       "3"
      ]
     },
     "execution_count": 142,
     "metadata": {},
     "output_type": "execute_result"
    }
   ],
   "source": [
    "len(nasdaq_df_strongBuy)"
   ]
  },
  {
   "cell_type": "code",
   "execution_count": 143,
   "id": "fe699f0c-9b02-4128-9b18-d9675808321c",
   "metadata": {},
   "outputs": [
    {
     "name": "stdout",
     "output_type": "stream",
     "text": [
      "   Symbol RECOMMENDATION BUY SELL NEUTRAL  ClosePrice  percInc30  percInc10   bbHigh    bbLow screener exchange interval                                         AdoscLastN\n",
      "2   AOGOU     STRONG_BUY  16    0      10     10.5500     3.0612     1.6777  10.5184  10.0835  america   NASDAQ       1h    68.21 55.81 395.66 498.72 145.55 -12.17 -75....\n",
      "17    IUS     STRONG_BUY  17    0       9     38.8400     1.4427     0.4779  39.0664  37.5684  america   NASDAQ       1h    330.22 408.31 951.36 1140.17 1129.03 1021.83...\n",
      "11   SZZL     STRONG_BUY  16    1       9     10.4999     0.2713     0.0754  10.5073  10.4692  america   NASDAQ       1h    12.21 -93.24 -2323.67 -3024.88 -3036.75 -276...\n"
     ]
    }
   ],
   "source": [
    "## Print all the dataFrame\n",
    "with pd.option_context('display.max_rows', None,\n",
    "                       'display.max_columns', None,\n",
    "                       'display.precision', 4, 'expand_frame_repr', False\n",
    "                       ):\n",
    "    print(nasdaq_df_strongBuy.head())"
   ]
  },
  {
   "cell_type": "code",
   "execution_count": 144,
   "id": "ca9f03ff-93f7-4440-912b-fd07ba356671",
   "metadata": {},
   "outputs": [
    {
     "data": {
      "text/plain": [
       "'../RaspberryFiles/Files/NasdaqStrongBuy-2023-04-30.csv'"
      ]
     },
     "execution_count": 144,
     "metadata": {},
     "output_type": "execute_result"
    }
   ],
   "source": [
    "# filename1 = f\"NasdaqStrongBuy{today}.csv\"\n",
    "# filename1\n",
    "\n",
    "nasdaqStrongBuyTodayFile = f\"../RaspberryFiles/Files/NasdaqStrongBuy-{today}.csv\"\n",
    "nasdaqStrongBuyTodayFile"
   ]
  },
  {
   "cell_type": "code",
   "execution_count": 145,
   "id": "2734773b-7693-48ee-93f6-dca4be6774a8",
   "metadata": {},
   "outputs": [],
   "source": [
    "nasdaq_df_strongBuy.to_csv(nasdaqStrongBuyTodayFile,index=False)"
   ]
  },
  {
   "cell_type": "code",
   "execution_count": null,
   "id": "05997853-c939-4e8f-8848-e93fdb4c30ff",
   "metadata": {},
   "outputs": [],
   "source": []
  },
  {
   "cell_type": "code",
   "execution_count": null,
   "id": "ad148bff-60ea-411c-a59a-44e59d71590f",
   "metadata": {},
   "outputs": [],
   "source": []
  },
  {
   "cell_type": "code",
   "execution_count": null,
   "id": "c1ce28d6-0403-4704-88a2-119f06d7a23e",
   "metadata": {},
   "outputs": [],
   "source": [
    "\n"
   ]
  },
  {
   "cell_type": "code",
   "execution_count": 146,
   "id": "68cd55cf-5bd0-4aec-869c-8f851f2f9a77",
   "metadata": {},
   "outputs": [],
   "source": [
    "nasdaq_df_strongSell = nasdaq_df[nasdaq_df['RECOMMENDATION'] == \"STRONG_SELL\"]"
   ]
  },
  {
   "cell_type": "code",
   "execution_count": 147,
   "id": "ef499041-45f5-47e8-8736-93aedf924dee",
   "metadata": {},
   "outputs": [],
   "source": [
    "nasdaq_df_strongSell = nasdaq_df_strongSell.sort_values(by=(['percInc10', 'percInc30', 'SELL']), ascending=[True, True, False])"
   ]
  },
  {
   "cell_type": "code",
   "execution_count": 148,
   "id": "53c029c2-2d45-4629-9d65-61082712b5c5",
   "metadata": {},
   "outputs": [
    {
     "data": {
      "text/plain": [
       "1"
      ]
     },
     "execution_count": 148,
     "metadata": {},
     "output_type": "execute_result"
    }
   ],
   "source": [
    "len(nasdaq_df_strongSell)"
   ]
  },
  {
   "cell_type": "code",
   "execution_count": 149,
   "id": "5d9b3a9e-048e-4ff4-9481-2e335dc334d1",
   "metadata": {},
   "outputs": [
    {
     "name": "stdout",
     "output_type": "stream",
     "text": [
      "  Symbol RECOMMENDATION BUY SELL NEUTRAL  ClosePrice  percInc30  percInc10  bbHigh   bbLow screener exchange interval                                         AdoscLastN\n",
      "4   ANGH    STRONG_SELL   0   17       9        1.58    -3.1861    -0.1895  1.7241  1.5084  america   NASDAQ       1h    -643.8 -636.63 -479.42 -371.52 -293.6 -235.0...\n"
     ]
    }
   ],
   "source": [
    "## Print all the dataFrame\n",
    "with pd.option_context('display.max_rows', None,\n",
    "                       'display.max_columns', None,\n",
    "                       'display.precision', 4, 'expand_frame_repr', False\n",
    "                       ):\n",
    "    print(nasdaq_df_strongSell)"
   ]
  },
  {
   "cell_type": "code",
   "execution_count": 150,
   "id": "b8308b95-f8a6-4e85-ac3d-8c7cc23b653e",
   "metadata": {},
   "outputs": [],
   "source": [
    "filename2 = f\"../RaspberryFiles/Files/NasdaqStrongSell-{today}.csv\"\n",
    "\n",
    "nasdaq_df_strongSell.to_csv(filename2,index=False)"
   ]
  },
  {
   "cell_type": "code",
   "execution_count": 151,
   "id": "d92f309e-39ca-4f04-803d-7d01c6d2258d",
   "metadata": {},
   "outputs": [
    {
     "name": "stdout",
     "output_type": "stream",
     "text": [
      "   Symbol RECOMMENDATION BUY SELL NEUTRAL  ClosePrice  percInc30  percInc10   bbHigh    bbLow screener exchange interval                                         AdoscLastN\n",
      "0    LSAK           SELL   3   13      10      3.6150    -5.4614    -0.9589   4.0850   3.4455  america   NASDAQ       1h                                                   \n",
      "1    GNTX            BUY  15    2       9     27.6100     3.2195     1.1633  28.1891  25.4079  america   NASDAQ       1h                                                   \n",
      "2   AOGOU     STRONG_BUY  16    0      10     10.5500     3.0612     1.6777  10.5184  10.0835  america   NASDAQ       1h    68.21 55.81 395.66 498.72 145.55 -12.17 -75....\n",
      "3    SGRY            BUY  15    1      10     39.6500     0.2449     0.6643  39.8984  39.0664  america   NASDAQ       1h                                                   \n",
      "4    ANGH    STRONG_SELL   0   17       9      1.5800    -3.1861    -0.1895   1.7241   1.5084  america   NASDAQ       1h    -643.8 -636.63 -479.42 -371.52 -293.6 -235.0...\n",
      "5    KFRC           SELL   5   12       9     59.0900    -0.6709     0.0366  59.5030  58.5464  america   NASDAQ       1h                                                   \n",
      "6    IESC            BUY  12    4      10     43.0500     0.0922    -0.0592  43.8350  41.6680  america   NASDAQ       1h                                                   \n",
      "7    TRON            BUY  15    1      10     10.5950     0.3778     0.2711  10.6420  10.4814  america   NASDAQ       1h                                                   \n",
      "8    CRKN        NEUTRAL   9    7      10      0.1575    11.9797    -0.5777   0.2297   0.1006  america   NASDAQ       1h                                                   \n",
      "9    RNRG           SELL   5   11      10     12.2000    -0.1561    -0.0726  12.2799  12.0653  america   NASDAQ       1h                                                   \n",
      "10   ZING            BUY  15    1      10     10.3100     0.1246     0.0485  10.3305  10.2765  america   NASDAQ       1h                                                   \n",
      "11   SZZL     STRONG_BUY  16    1       9     10.4999     0.2713     0.0754  10.5073  10.4692  america   NASDAQ       1h    12.21 -93.24 -2323.67 -3024.88 -3036.75 -276...\n",
      "12   VERA            BUY  13    5       8      6.6500     4.3421     2.9491   6.6300   6.1716  america   NASDAQ       1h                                                   \n",
      "13   FREE            BUY  14    2      10      2.3900     2.5132     1.6987   2.3927   2.3139  america   NASDAQ       1h                                                   \n",
      "14  PEGRU            BUY  15    1      10     10.2600     0.2214     0.2638  10.2656  10.1784  america   NASDAQ       1h                                                   \n",
      "15   BOSC            BUY  12    4      10      2.8300    -0.0542    -0.2910   2.8674   2.7788  america   NASDAQ       1h                                                   \n",
      "16   IMTE            BUY  13    4       9      0.3956     9.3059     8.5620   0.3939   0.3274  america   NASDAQ       1h                                                   \n",
      "17    IUS     STRONG_BUY  17    0       9     38.8400     1.4427     0.4779  39.0664  37.5684  america   NASDAQ       1h    330.22 408.31 951.36 1140.17 1129.03 1021.83...\n",
      "18   RPAY            BUY   9    8       9      6.2600     1.7892     0.3125   6.3672   5.9468  america   NASDAQ       1h                                                   \n",
      "19   LPCN           SELL   1   15      10      0.2601    -6.9998    -4.3504   0.2916   0.2595  america   NASDAQ       1h                                                   \n",
      "20   CBIO           SELL   3   16       7      0.2121    -6.6337    -2.0640   0.2356   0.2082  america   NASDAQ       1h                                                   \n",
      "21  MITAU            BUY  14    3       9     10.2900     0.4634     0.0681  10.3345  10.1977  america   NASDAQ       1h                                                   \n",
      "22   BJDX           SELL   2   14      10      0.2989    -3.7908    -1.1623   0.3210   0.2930  america   NASDAQ       1h                                                   \n",
      "23   APOG            BUY  12    5       9     42.5500     0.6453     0.3869  42.8123  41.3627  america   NASDAQ       1h                                                   \n",
      "24   IRAA            BUY  13    4       9     10.2000     0.6045     0.2654  10.2897  10.0053  america   NASDAQ       1h                                                   \n"
     ]
    }
   ],
   "source": [
    "## Print all the dataFrame\n",
    "with pd.option_context('display.max_rows', None,\n",
    "                       'display.max_columns', None,\n",
    "                       'display.precision', 4, 'expand_frame_repr', False\n",
    "                       ):\n",
    "    print(nasdaq_df)"
   ]
  },
  {
   "cell_type": "code",
   "execution_count": 152,
   "id": "cf1fe8a1-8cec-4b17-84d1-9006b95acd02",
   "metadata": {},
   "outputs": [],
   "source": [
    "filename3 = f\"../RaspberryFiles/Files/nasdaq_df-{today}.csv\"\n",
    "nasdaq_df.to_csv(filename3, index=False)"
   ]
  },
  {
   "cell_type": "code",
   "execution_count": 153,
   "id": "3aa959c4-dd74-4b38-bd87-93476137a098",
   "metadata": {},
   "outputs": [],
   "source": [
    "handlerCrypto = TA_Handler(\n",
    "    symbol=\"ETHBTC\",\n",
    "    exchange=\"BINANCEUS\",\n",
    "    screener=\"crypto\",\n",
    "    interval=\"1d\",\n",
    "    timeout=None\n",
    ")"
   ]
  },
  {
   "cell_type": "code",
   "execution_count": 136,
   "id": "2515e368-df60-4773-bd69-8e394b2d41aa",
   "metadata": {},
   "outputs": [
    {
     "name": "stdout",
     "output_type": "stream",
     "text": [
      "{'RECOMMENDATION': 'SELL', 'BUY': 4, 'SELL': 14, 'NEUTRAL': 8}\n"
     ]
    }
   ],
   "source": [
    "print(handlerCrypto.get_analysis().summary)"
   ]
  },
  {
   "cell_type": "code",
   "execution_count": null,
   "id": "c38ede83-74b3-4638-99bb-8b279264c02d",
   "metadata": {},
   "outputs": [],
   "source": []
  },
  {
   "cell_type": "markdown",
   "id": "7e455832-fc6c-46a9-ba55-b47ef9f8704b",
   "metadata": {},
   "source": [
    "##  https://github.com/StreamAlpha/tvdatafeed to get historical data from Trading View"
   ]
  },
  {
   "cell_type": "markdown",
   "id": "020601eb-532d-4726-bec2-290bf5431c62",
   "metadata": {},
   "source": [
    "##  https://github.com/TA-Lib/ta-lib-python\n",
    "### indicator ADOSC similar to Chaikin Oscillator"
   ]
  },
  {
   "cell_type": "code",
   "execution_count": null,
   "id": "865e6a0c-9383-4a2a-9876-606b5ebb5ddf",
   "metadata": {},
   "outputs": [],
   "source": []
  },
  {
   "cell_type": "code",
   "execution_count": null,
   "id": "33f3162e-61dd-4357-abf9-cecd3bf7bb7b",
   "metadata": {},
   "outputs": [],
   "source": [
    "# from tvDatafeed import TvDatafeed, Interval"
   ]
  },
  {
   "cell_type": "code",
   "execution_count": null,
   "id": "738d795d-0689-4220-91bb-8070b09a8ae3",
   "metadata": {},
   "outputs": [],
   "source": [
    "# import talib"
   ]
  },
  {
   "cell_type": "code",
   "execution_count": null,
   "id": "78b1dadc-4df4-4498-82fc-cb4eb7f884f2",
   "metadata": {},
   "outputs": [],
   "source": [
    "# tradingViewPassword = os.getenv(\"tradingViewPassword\")\n",
    "# tradingUser = os.getenv(\"tradingUser\")"
   ]
  },
  {
   "cell_type": "code",
   "execution_count": null,
   "id": "6e3baf7e-e1a3-451a-8fe8-f69e5b669e48",
   "metadata": {},
   "outputs": [],
   "source": []
  },
  {
   "cell_type": "code",
   "execution_count": null,
   "id": "5da14622-7286-4154-8c86-c0628649e30a",
   "metadata": {},
   "outputs": [],
   "source": []
  },
  {
   "cell_type": "code",
   "execution_count": null,
   "id": "a6b2d37e-87b1-452d-8d0f-0a3a65549c75",
   "metadata": {},
   "outputs": [],
   "source": []
  },
  {
   "cell_type": "code",
   "execution_count": null,
   "id": "26ec806c-4b33-43f3-b31d-99bb934d481d",
   "metadata": {},
   "outputs": [],
   "source": [
    "# tv = TvDatafeed(tradingUser, tradingViewPassword)"
   ]
  },
  {
   "cell_type": "code",
   "execution_count": null,
   "id": "b7ca6cd3-f283-49b7-aa36-6e888dbc7af6",
   "metadata": {},
   "outputs": [],
   "source": []
  },
  {
   "cell_type": "code",
   "execution_count": null,
   "id": "28073e44-732e-4f05-bfd0-b0a5884c950d",
   "metadata": {},
   "outputs": [],
   "source": [
    "# # index\n",
    "# tsla_index_data = tv.get_hist(symbol='TSLA',exchange='NASDAQ',interval=Interval.in_1_hour,n_bars=1000)\n"
   ]
  },
  {
   "cell_type": "code",
   "execution_count": null,
   "id": "fe07880a-dac0-420d-9978-2b7a4b725a0c",
   "metadata": {},
   "outputs": [],
   "source": [
    "# adoscTicker = talib.ADOSC(tsla_index_data['high'],tsla_index_data['low'],tsla_index_data['close'],tsla_index_data['volume'],3,10)\n",
    "# adoscTicker.tail(8)"
   ]
  },
  {
   "cell_type": "code",
   "execution_count": null,
   "id": "99df7083-f062-4a51-8886-ec3a6074e5f8",
   "metadata": {},
   "outputs": [],
   "source": [
    "# tsla_index_data.head()"
   ]
  },
  {
   "cell_type": "code",
   "execution_count": null,
   "id": "ea2370bc-7c3f-4a28-9552-ffa7988da272",
   "metadata": {},
   "outputs": [],
   "source": [
    "#nifty_index_data"
   ]
  },
  {
   "cell_type": "code",
   "execution_count": null,
   "id": "6d2bf2ec-cbff-4054-8e67-2bc08a22f86a",
   "metadata": {},
   "outputs": [],
   "source": [
    "# spx_df_strongBuy.head()"
   ]
  },
  {
   "cell_type": "code",
   "execution_count": null,
   "id": "155a5560-06e9-4ecc-8d2a-9bf0283ce3bd",
   "metadata": {},
   "outputs": [],
   "source": [
    "# RECOMMENDATION\tBUY\tSELL\tNEUTRAL\tsymbol\tscreener\texchange\tinterval\n",
    "# 0\tSELL\t3\t15\t8\tTSLA\tamerica\tNASDAQ\tInterval.INTERVAL_1_DAY"
   ]
  },
  {
   "cell_type": "code",
   "execution_count": null,
   "id": "e685ab63-686f-4e5b-a8eb-d20840bf20fe",
   "metadata": {},
   "outputs": [],
   "source": [
    "# # spx_df_strongBuy\n",
    "# # for row in spx_df_strongBuy.rows:\n",
    "# #df = spx_df_strongBuy.reset_index()  \n",
    "# for index, row in spx_df_strongBuy.iterrows():\n",
    "#     print(row['Symbol'], row['exchange'])\n",
    "#     ticker_data = tv.get_hist(symbol= row['Symbol'],exchange=row['exchange'],interval=Interval.in_1_hour, n_bars=1000)\n",
    "#     #print(ticker_data.head())\n",
    "#     adoscTicker = talib.ADOSC(ticker_data['high'],ticker_data['low'],ticker_data['close'],ticker_data['volume'],3,10)\n",
    "#     print(\"length of asoscTicker = \", len(adoscTicker))\n",
    "#     #print(row['Symbol'], adoscTicker.tail(5))\n",
    "#     last8 = adoscTicker.tail(8)\n",
    "#     concat8 = \" \"\n",
    "#     for i in last8:\n",
    "#         concat8 = concat8 + \" \" + str(round(i,2))\n",
    "#         concat8 = concat8 + \" \" + str(round(i,2))\n",
    "#         #str(round(answer, 2))\n",
    "#     print(\"ADOSC last8 = \", concat8)\n",
    "    "
   ]
  },
  {
   "cell_type": "code",
   "execution_count": null,
   "id": "0c21b508-3c65-4ee4-9adb-e9af63eb164f",
   "metadata": {},
   "outputs": [],
   "source": [
    "# last8 = adoscTicker.tail(8)\n",
    "# last8\n",
    "# concat8 = \" \"\n",
    "# for i in last8:\n",
    "#     concat8 = concat8 + \" \" + str(i)\n",
    "# concat8"
   ]
  },
  {
   "cell_type": "code",
   "execution_count": null,
   "id": "03807c5a-9527-4afb-b798-60bfc289d8ee",
   "metadata": {},
   "outputs": [],
   "source": [
    "\n",
    "# # btc_index_data = tv.get_hist(symbol='BTCUSDT',exchange='KUCOIN',interval=Interval.in_daily,n_bars=1000)\n",
    "# btc_index_data = tv.get_hist(symbol='BTCUSDT',exchange='KUCOIN',interval=Interval.in_1_hour,n_bars=1000)\n",
    "# btc_index_data"
   ]
  },
  {
   "cell_type": "code",
   "execution_count": null,
   "id": "d4e60ac4-4c15-4242-b94d-bb36a46ccc84",
   "metadata": {},
   "outputs": [],
   "source": [
    "# adoscBTC = talib.ADOSC(btc_index_data['high'],btc_index_data['low'],btc_index_data['close'],btc_index_data['volume'],3,10)\n",
    "# adoscBTC"
   ]
  },
  {
   "cell_type": "code",
   "execution_count": null,
   "id": "9d361c2e-9765-449d-95f1-fa6115b337b2",
   "metadata": {},
   "outputs": [],
   "source": [
    "# btc_index_data['close']"
   ]
  },
  {
   "cell_type": "markdown",
   "id": "158b43a4-2f1c-4eb1-b820-7683503e0414",
   "metadata": {},
   "source": []
  },
  {
   "cell_type": "markdown",
   "id": "b43d6ece-a4fa-4bdf-86f7-fc623ea24f66",
   "metadata": {},
   "source": []
  },
  {
   "cell_type": "code",
   "execution_count": null,
   "id": "156dd013-10e6-4d52-88c2-2d3fe268c97e",
   "metadata": {},
   "outputs": [],
   "source": []
  },
  {
   "cell_type": "code",
   "execution_count": null,
   "id": "73ee9495-2b4b-47f9-878a-8c9b18b28b38",
   "metadata": {},
   "outputs": [],
   "source": [
    "# smaBTC = talib.SMA(btc_index_data['close'])\n",
    "# smaBTC"
   ]
  },
  {
   "cell_type": "code",
   "execution_count": null,
   "id": "a1bd2be6-8c91-4b7e-b447-123d9da0e3a1",
   "metadata": {},
   "outputs": [],
   "source": [
    "# adBTC = talib.AD(btc_index_data['high'],btc_index_data['low'],btc_index_data['close'],btc_index_data['volume'])\n",
    "# adBTC"
   ]
  },
  {
   "cell_type": "code",
   "execution_count": null,
   "id": "103ccab6-4014-4afb-a118-a0a4b6c5ae82",
   "metadata": {},
   "outputs": [],
   "source": []
  },
  {
   "cell_type": "code",
   "execution_count": null,
   "id": "7904097a-6d10-454d-a005-cd620056f369",
   "metadata": {},
   "outputs": [],
   "source": [
    "# # ge_index_data = tv.get_hist(symbol='GEHC',exchange='NYSE',interval=Interval.in_daily,n_bars=1000)\n",
    "# ge_index_data = tv.get_hist(symbol='AAPL',exchange='NASDAQ',interval=Interval.in_1_hour,n_bars=1000)\n",
    "# ge_index_data\n"
   ]
  },
  {
   "cell_type": "code",
   "execution_count": null,
   "id": "2bb64999-1dcc-46fe-aba0-0761ecb49fdc",
   "metadata": {},
   "outputs": [],
   "source": [
    "# adoscGE = talib.ADOSC(ge_index_data['high'],ge_index_data['low'],ge_index_data['close'],ge_index_data['volume'],3,10)\n",
    "# adoscGE"
   ]
  },
  {
   "cell_type": "code",
   "execution_count": null,
   "id": "45ded7e3-f0f3-4074-b0cd-d64c91dd453d",
   "metadata": {},
   "outputs": [],
   "source": []
  }
 ],
 "metadata": {
  "kernelspec": {
   "display_name": "myFi",
   "language": "python",
   "name": "myfi"
  },
  "language_info": {
   "codemirror_mode": {
    "name": "ipython",
    "version": 3
   },
   "file_extension": ".py",
   "mimetype": "text/x-python",
   "name": "python",
   "nbconvert_exporter": "python",
   "pygments_lexer": "ipython3",
   "version": "3.8.8"
  }
 },
 "nbformat": 4,
 "nbformat_minor": 5
}
